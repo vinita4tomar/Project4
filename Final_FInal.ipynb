{
 "cells": [
  {
   "cell_type": "code",
   "execution_count": 1,
   "metadata": {},
   "outputs": [
    {
     "data": {
      "application/javascript": "(function(root) {\n  function now() {\n    return new Date();\n  }\n\n  var force = true;\n  var py_version = '3.3.4'.replace('rc', '-rc.').replace('.dev', '-dev.');\n  var reloading = false;\n  var Bokeh = root.Bokeh;\n\n  if (typeof (root._bokeh_timeout) === \"undefined\" || force) {\n    root._bokeh_timeout = Date.now() + 5000;\n    root._bokeh_failed_load = false;\n  }\n\n  function run_callbacks() {\n    try {\n      root._bokeh_onload_callbacks.forEach(function(callback) {\n        if (callback != null)\n          callback();\n      });\n    } finally {\n      delete root._bokeh_onload_callbacks;\n    }\n    console.debug(\"Bokeh: all callbacks have finished\");\n  }\n\n  function load_libs(css_urls, js_urls, js_modules, js_exports, callback) {\n    if (css_urls == null) css_urls = [];\n    if (js_urls == null) js_urls = [];\n    if (js_modules == null) js_modules = [];\n    if (js_exports == null) js_exports = {};\n\n    root._bokeh_onload_callbacks.push(callback);\n\n    if (root._bokeh_is_loading > 0) {\n      console.debug(\"Bokeh: BokehJS is being loaded, scheduling callback at\", now());\n      return null;\n    }\n    if (js_urls.length === 0 && js_modules.length === 0 && Object.keys(js_exports).length === 0) {\n      run_callbacks();\n      return null;\n    }\n    if (!reloading) {\n      console.debug(\"Bokeh: BokehJS not loaded, scheduling load and callback at\", now());\n    }\n\n    function on_load() {\n      root._bokeh_is_loading--;\n      if (root._bokeh_is_loading === 0) {\n        console.debug(\"Bokeh: all BokehJS libraries/stylesheets loaded\");\n        run_callbacks()\n      }\n    }\n    window._bokeh_on_load = on_load\n\n    function on_error() {\n      console.error(\"failed to load \" + url);\n    }\n\n    var skip = [];\n    if (window.requirejs) {\n      window.requirejs.config({'packages': {}, 'paths': {'jspanel': 'https://cdn.jsdelivr.net/npm/jspanel4@4.12.0/dist/jspanel', 'jspanel-modal': 'https://cdn.jsdelivr.net/npm/jspanel4@4.12.0/dist/extensions/modal/jspanel.modal', 'jspanel-tooltip': 'https://cdn.jsdelivr.net/npm/jspanel4@4.12.0/dist/extensions/tooltip/jspanel.tooltip', 'jspanel-hint': 'https://cdn.jsdelivr.net/npm/jspanel4@4.12.0/dist/extensions/hint/jspanel.hint', 'jspanel-layout': 'https://cdn.jsdelivr.net/npm/jspanel4@4.12.0/dist/extensions/layout/jspanel.layout', 'jspanel-contextmenu': 'https://cdn.jsdelivr.net/npm/jspanel4@4.12.0/dist/extensions/contextmenu/jspanel.contextmenu', 'jspanel-dock': 'https://cdn.jsdelivr.net/npm/jspanel4@4.12.0/dist/extensions/dock/jspanel.dock', 'gridstack': 'https://cdn.jsdelivr.net/npm/gridstack@7.2.3/dist/gridstack-all', 'notyf': 'https://cdn.jsdelivr.net/npm/notyf@3/notyf.min'}, 'shim': {'jspanel': {'exports': 'jsPanel'}, 'gridstack': {'exports': 'GridStack'}}});\n      require([\"jspanel\"], function(jsPanel) {\n\twindow.jsPanel = jsPanel\n\ton_load()\n      })\n      require([\"jspanel-modal\"], function() {\n\ton_load()\n      })\n      require([\"jspanel-tooltip\"], function() {\n\ton_load()\n      })\n      require([\"jspanel-hint\"], function() {\n\ton_load()\n      })\n      require([\"jspanel-layout\"], function() {\n\ton_load()\n      })\n      require([\"jspanel-contextmenu\"], function() {\n\ton_load()\n      })\n      require([\"jspanel-dock\"], function() {\n\ton_load()\n      })\n      require([\"gridstack\"], function(GridStack) {\n\twindow.GridStack = GridStack\n\ton_load()\n      })\n      require([\"notyf\"], function() {\n\ton_load()\n      })\n      root._bokeh_is_loading = css_urls.length + 9;\n    } else {\n      root._bokeh_is_loading = css_urls.length + js_urls.length + js_modules.length + Object.keys(js_exports).length;\n    }\n\n    var existing_stylesheets = []\n    var links = document.getElementsByTagName('link')\n    for (var i = 0; i < links.length; i++) {\n      var link = links[i]\n      if (link.href != null) {\n\texisting_stylesheets.push(link.href)\n      }\n    }\n    for (var i = 0; i < css_urls.length; i++) {\n      var url = css_urls[i];\n      if (existing_stylesheets.indexOf(url) !== -1) {\n\ton_load()\n\tcontinue;\n      }\n      const element = document.createElement(\"link\");\n      element.onload = on_load;\n      element.onerror = on_error;\n      element.rel = \"stylesheet\";\n      element.type = \"text/css\";\n      element.href = url;\n      console.debug(\"Bokeh: injecting link tag for BokehJS stylesheet: \", url);\n      document.body.appendChild(element);\n    }    if (((window['jsPanel'] !== undefined) && (!(window['jsPanel'] instanceof HTMLElement))) || window.requirejs) {\n      var urls = ['https://cdn.holoviz.org/panel/1.3.8/dist/bundled/floatpanel/jspanel4@4.12.0/dist/jspanel.js', 'https://cdn.holoviz.org/panel/1.3.8/dist/bundled/floatpanel/jspanel4@4.12.0/dist/extensions/modal/jspanel.modal.js', 'https://cdn.holoviz.org/panel/1.3.8/dist/bundled/floatpanel/jspanel4@4.12.0/dist/extensions/tooltip/jspanel.tooltip.js', 'https://cdn.holoviz.org/panel/1.3.8/dist/bundled/floatpanel/jspanel4@4.12.0/dist/extensions/hint/jspanel.hint.js', 'https://cdn.holoviz.org/panel/1.3.8/dist/bundled/floatpanel/jspanel4@4.12.0/dist/extensions/layout/jspanel.layout.js', 'https://cdn.holoviz.org/panel/1.3.8/dist/bundled/floatpanel/jspanel4@4.12.0/dist/extensions/contextmenu/jspanel.contextmenu.js', 'https://cdn.holoviz.org/panel/1.3.8/dist/bundled/floatpanel/jspanel4@4.12.0/dist/extensions/dock/jspanel.dock.js'];\n      for (var i = 0; i < urls.length; i++) {\n        skip.push(urls[i])\n      }\n    }    if (((window['GridStack'] !== undefined) && (!(window['GridStack'] instanceof HTMLElement))) || window.requirejs) {\n      var urls = ['https://cdn.holoviz.org/panel/1.3.8/dist/bundled/gridstack/gridstack@7.2.3/dist/gridstack-all.js'];\n      for (var i = 0; i < urls.length; i++) {\n        skip.push(urls[i])\n      }\n    }    if (((window['Notyf'] !== undefined) && (!(window['Notyf'] instanceof HTMLElement))) || window.requirejs) {\n      var urls = ['https://cdn.holoviz.org/panel/1.3.8/dist/bundled/notificationarea/notyf@3/notyf.min.js'];\n      for (var i = 0; i < urls.length; i++) {\n        skip.push(urls[i])\n      }\n    }    var existing_scripts = []\n    var scripts = document.getElementsByTagName('script')\n    for (var i = 0; i < scripts.length; i++) {\n      var script = scripts[i]\n      if (script.src != null) {\n\texisting_scripts.push(script.src)\n      }\n    }\n    for (var i = 0; i < js_urls.length; i++) {\n      var url = js_urls[i];\n      if (skip.indexOf(url) !== -1 || existing_scripts.indexOf(url) !== -1) {\n\tif (!window.requirejs) {\n\t  on_load();\n\t}\n\tcontinue;\n      }\n      var element = document.createElement('script');\n      element.onload = on_load;\n      element.onerror = on_error;\n      element.async = false;\n      element.src = url;\n      console.debug(\"Bokeh: injecting script tag for BokehJS library: \", url);\n      document.head.appendChild(element);\n    }\n    for (var i = 0; i < js_modules.length; i++) {\n      var url = js_modules[i];\n      if (skip.indexOf(url) !== -1 || existing_scripts.indexOf(url) !== -1) {\n\tif (!window.requirejs) {\n\t  on_load();\n\t}\n\tcontinue;\n      }\n      var element = document.createElement('script');\n      element.onload = on_load;\n      element.onerror = on_error;\n      element.async = false;\n      element.src = url;\n      element.type = \"module\";\n      console.debug(\"Bokeh: injecting script tag for BokehJS library: \", url);\n      document.head.appendChild(element);\n    }\n    for (const name in js_exports) {\n      var url = js_exports[name];\n      if (skip.indexOf(url) >= 0 || root[name] != null) {\n\tif (!window.requirejs) {\n\t  on_load();\n\t}\n\tcontinue;\n      }\n      var element = document.createElement('script');\n      element.onerror = on_error;\n      element.async = false;\n      element.type = \"module\";\n      console.debug(\"Bokeh: injecting script tag for BokehJS library: \", url);\n      element.textContent = `\n      import ${name} from \"${url}\"\n      window.${name} = ${name}\n      window._bokeh_on_load()\n      `\n      document.head.appendChild(element);\n    }\n    if (!js_urls.length && !js_modules.length) {\n      on_load()\n    }\n  };\n\n  function inject_raw_css(css) {\n    const element = document.createElement(\"style\");\n    element.appendChild(document.createTextNode(css));\n    document.body.appendChild(element);\n  }\n\n  var js_urls = [\"https://cdn.bokeh.org/bokeh/release/bokeh-3.3.4.min.js\", \"https://cdn.bokeh.org/bokeh/release/bokeh-gl-3.3.4.min.js\", \"https://cdn.bokeh.org/bokeh/release/bokeh-widgets-3.3.4.min.js\", \"https://cdn.bokeh.org/bokeh/release/bokeh-tables-3.3.4.min.js\", \"https://cdn.holoviz.org/panel/1.3.8/dist/panel.min.js\"];\n  var js_modules = [];\n  var js_exports = {};\n  var css_urls = [];\n  var inline_js = [    function(Bokeh) {\n      Bokeh.set_log_level(\"info\");\n    },\nfunction(Bokeh) {} // ensure no trailing comma for IE\n  ];\n\n  function run_inline_js() {\n    if ((root.Bokeh !== undefined) || (force === true)) {\n      for (var i = 0; i < inline_js.length; i++) {\n\ttry {\n          inline_js[i].call(root, root.Bokeh);\n\t} catch(e) {\n\t  if (!reloading) {\n\t    throw e;\n\t  }\n\t}\n      }\n      // Cache old bokeh versions\n      if (Bokeh != undefined && !reloading) {\n\tvar NewBokeh = root.Bokeh;\n\tif (Bokeh.versions === undefined) {\n\t  Bokeh.versions = new Map();\n\t}\n\tif (NewBokeh.version !== Bokeh.version) {\n\t  Bokeh.versions.set(NewBokeh.version, NewBokeh)\n\t}\n\troot.Bokeh = Bokeh;\n      }} else if (Date.now() < root._bokeh_timeout) {\n      setTimeout(run_inline_js, 100);\n    } else if (!root._bokeh_failed_load) {\n      console.log(\"Bokeh: BokehJS failed to load within specified timeout.\");\n      root._bokeh_failed_load = true;\n    }\n    root._bokeh_is_initializing = false\n  }\n\n  function load_or_wait() {\n    // Implement a backoff loop that tries to ensure we do not load multiple\n    // versions of Bokeh and its dependencies at the same time.\n    // In recent versions we use the root._bokeh_is_initializing flag\n    // to determine whether there is an ongoing attempt to initialize\n    // bokeh, however for backward compatibility we also try to ensure\n    // that we do not start loading a newer (Panel>=1.0 and Bokeh>3) version\n    // before older versions are fully initialized.\n    if (root._bokeh_is_initializing && Date.now() > root._bokeh_timeout) {\n      root._bokeh_is_initializing = false;\n      root._bokeh_onload_callbacks = undefined;\n      console.log(\"Bokeh: BokehJS was loaded multiple times but one version failed to initialize.\");\n      load_or_wait();\n    } else if (root._bokeh_is_initializing || (typeof root._bokeh_is_initializing === \"undefined\" && root._bokeh_onload_callbacks !== undefined)) {\n      setTimeout(load_or_wait, 100);\n    } else {\n      root._bokeh_is_initializing = true\n      root._bokeh_onload_callbacks = []\n      var bokeh_loaded = Bokeh != null && (Bokeh.version === py_version || (Bokeh.versions !== undefined && Bokeh.versions.has(py_version)));\n      if (!reloading && !bokeh_loaded) {\n\troot.Bokeh = undefined;\n      }\n      load_libs(css_urls, js_urls, js_modules, js_exports, function() {\n\tconsole.debug(\"Bokeh: BokehJS plotting callback run at\", now());\n\trun_inline_js();\n      });\n    }\n  }\n  // Give older versions of the autoload script a head-start to ensure\n  // they initialize before we start loading newer version.\n  setTimeout(load_or_wait, 100)\n}(window));",
      "application/vnd.holoviews_load.v0+json": ""
     },
     "metadata": {},
     "output_type": "display_data"
    },
    {
     "data": {
      "application/javascript": "\nif ((window.PyViz === undefined) || (window.PyViz instanceof HTMLElement)) {\n  window.PyViz = {comms: {}, comm_status:{}, kernels:{}, receivers: {}, plot_index: []}\n}\n\n\n    function JupyterCommManager() {\n    }\n\n    JupyterCommManager.prototype.register_target = function(plot_id, comm_id, msg_handler) {\n      if (window.comm_manager || ((window.Jupyter !== undefined) && (Jupyter.notebook.kernel != null))) {\n        var comm_manager = window.comm_manager || Jupyter.notebook.kernel.comm_manager;\n        comm_manager.register_target(comm_id, function(comm) {\n          comm.on_msg(msg_handler);\n        });\n      } else if ((plot_id in window.PyViz.kernels) && (window.PyViz.kernels[plot_id])) {\n        window.PyViz.kernels[plot_id].registerCommTarget(comm_id, function(comm) {\n          comm.onMsg = msg_handler;\n        });\n      } else if (typeof google != 'undefined' && google.colab.kernel != null) {\n        google.colab.kernel.comms.registerTarget(comm_id, (comm) => {\n          var messages = comm.messages[Symbol.asyncIterator]();\n          function processIteratorResult(result) {\n            var message = result.value;\n            console.log(message)\n            var content = {data: message.data, comm_id};\n            var buffers = []\n            for (var buffer of message.buffers || []) {\n              buffers.push(new DataView(buffer))\n            }\n            var metadata = message.metadata || {};\n            var msg = {content, buffers, metadata}\n            msg_handler(msg);\n            return messages.next().then(processIteratorResult);\n          }\n          return messages.next().then(processIteratorResult);\n        })\n      }\n    }\n\n    JupyterCommManager.prototype.get_client_comm = function(plot_id, comm_id, msg_handler) {\n      if (comm_id in window.PyViz.comms) {\n        return window.PyViz.comms[comm_id];\n      } else if (window.comm_manager || ((window.Jupyter !== undefined) && (Jupyter.notebook.kernel != null))) {\n        var comm_manager = window.comm_manager || Jupyter.notebook.kernel.comm_manager;\n        var comm = comm_manager.new_comm(comm_id, {}, {}, {}, comm_id);\n        if (msg_handler) {\n          comm.on_msg(msg_handler);\n        }\n      } else if ((plot_id in window.PyViz.kernels) && (window.PyViz.kernels[plot_id])) {\n        var comm = window.PyViz.kernels[plot_id].connectToComm(comm_id);\n        comm.open();\n        if (msg_handler) {\n          comm.onMsg = msg_handler;\n        }\n      } else if (typeof google != 'undefined' && google.colab.kernel != null) {\n        var comm_promise = google.colab.kernel.comms.open(comm_id)\n        comm_promise.then((comm) => {\n          window.PyViz.comms[comm_id] = comm;\n          if (msg_handler) {\n            var messages = comm.messages[Symbol.asyncIterator]();\n            function processIteratorResult(result) {\n              var message = result.value;\n              var content = {data: message.data};\n              var metadata = message.metadata || {comm_id};\n              var msg = {content, metadata}\n              msg_handler(msg);\n              return messages.next().then(processIteratorResult);\n            }\n            return messages.next().then(processIteratorResult);\n          }\n        }) \n        var sendClosure = (data, metadata, buffers, disposeOnDone) => {\n          return comm_promise.then((comm) => {\n            comm.send(data, metadata, buffers, disposeOnDone);\n          });\n        };\n        var comm = {\n          send: sendClosure\n        };\n      }\n      window.PyViz.comms[comm_id] = comm;\n      return comm;\n    }\n    window.PyViz.comm_manager = new JupyterCommManager();\n    \n\n\nvar JS_MIME_TYPE = 'application/javascript';\nvar HTML_MIME_TYPE = 'text/html';\nvar EXEC_MIME_TYPE = 'application/vnd.holoviews_exec.v0+json';\nvar CLASS_NAME = 'output';\n\n/**\n * Render data to the DOM node\n */\nfunction render(props, node) {\n  var div = document.createElement(\"div\");\n  var script = document.createElement(\"script\");\n  node.appendChild(div);\n  node.appendChild(script);\n}\n\n/**\n * Handle when a new output is added\n */\nfunction handle_add_output(event, handle) {\n  var output_area = handle.output_area;\n  var output = handle.output;\n  if ((output.data == undefined) || (!output.data.hasOwnProperty(EXEC_MIME_TYPE))) {\n    return\n  }\n  var id = output.metadata[EXEC_MIME_TYPE][\"id\"];\n  var toinsert = output_area.element.find(\".\" + CLASS_NAME.split(' ')[0]);\n  if (id !== undefined) {\n    var nchildren = toinsert.length;\n    var html_node = toinsert[nchildren-1].children[0];\n    html_node.innerHTML = output.data[HTML_MIME_TYPE];\n    var scripts = [];\n    var nodelist = html_node.querySelectorAll(\"script\");\n    for (var i in nodelist) {\n      if (nodelist.hasOwnProperty(i)) {\n        scripts.push(nodelist[i])\n      }\n    }\n\n    scripts.forEach( function (oldScript) {\n      var newScript = document.createElement(\"script\");\n      var attrs = [];\n      var nodemap = oldScript.attributes;\n      for (var j in nodemap) {\n        if (nodemap.hasOwnProperty(j)) {\n          attrs.push(nodemap[j])\n        }\n      }\n      attrs.forEach(function(attr) { newScript.setAttribute(attr.name, attr.value) });\n      newScript.appendChild(document.createTextNode(oldScript.innerHTML));\n      oldScript.parentNode.replaceChild(newScript, oldScript);\n    });\n    if (JS_MIME_TYPE in output.data) {\n      toinsert[nchildren-1].children[1].textContent = output.data[JS_MIME_TYPE];\n    }\n    output_area._hv_plot_id = id;\n    if ((window.Bokeh !== undefined) && (id in Bokeh.index)) {\n      window.PyViz.plot_index[id] = Bokeh.index[id];\n    } else {\n      window.PyViz.plot_index[id] = null;\n    }\n  } else if (output.metadata[EXEC_MIME_TYPE][\"server_id\"] !== undefined) {\n    var bk_div = document.createElement(\"div\");\n    bk_div.innerHTML = output.data[HTML_MIME_TYPE];\n    var script_attrs = bk_div.children[0].attributes;\n    for (var i = 0; i < script_attrs.length; i++) {\n      toinsert[toinsert.length - 1].childNodes[1].setAttribute(script_attrs[i].name, script_attrs[i].value);\n    }\n    // store reference to server id on output_area\n    output_area._bokeh_server_id = output.metadata[EXEC_MIME_TYPE][\"server_id\"];\n  }\n}\n\n/**\n * Handle when an output is cleared or removed\n */\nfunction handle_clear_output(event, handle) {\n  var id = handle.cell.output_area._hv_plot_id;\n  var server_id = handle.cell.output_area._bokeh_server_id;\n  if (((id === undefined) || !(id in PyViz.plot_index)) && (server_id !== undefined)) { return; }\n  var comm = window.PyViz.comm_manager.get_client_comm(\"hv-extension-comm\", \"hv-extension-comm\", function () {});\n  if (server_id !== null) {\n    comm.send({event_type: 'server_delete', 'id': server_id});\n    return;\n  } else if (comm !== null) {\n    comm.send({event_type: 'delete', 'id': id});\n  }\n  delete PyViz.plot_index[id];\n  if ((window.Bokeh !== undefined) & (id in window.Bokeh.index)) {\n    var doc = window.Bokeh.index[id].model.document\n    doc.clear();\n    const i = window.Bokeh.documents.indexOf(doc);\n    if (i > -1) {\n      window.Bokeh.documents.splice(i, 1);\n    }\n  }\n}\n\n/**\n * Handle kernel restart event\n */\nfunction handle_kernel_cleanup(event, handle) {\n  delete PyViz.comms[\"hv-extension-comm\"];\n  window.PyViz.plot_index = {}\n}\n\n/**\n * Handle update_display_data messages\n */\nfunction handle_update_output(event, handle) {\n  handle_clear_output(event, {cell: {output_area: handle.output_area}})\n  handle_add_output(event, handle)\n}\n\nfunction register_renderer(events, OutputArea) {\n  function append_mime(data, metadata, element) {\n    // create a DOM node to render to\n    var toinsert = this.create_output_subarea(\n    metadata,\n    CLASS_NAME,\n    EXEC_MIME_TYPE\n    );\n    this.keyboard_manager.register_events(toinsert);\n    // Render to node\n    var props = {data: data, metadata: metadata[EXEC_MIME_TYPE]};\n    render(props, toinsert[0]);\n    element.append(toinsert);\n    return toinsert\n  }\n\n  events.on('output_added.OutputArea', handle_add_output);\n  events.on('output_updated.OutputArea', handle_update_output);\n  events.on('clear_output.CodeCell', handle_clear_output);\n  events.on('delete.Cell', handle_clear_output);\n  events.on('kernel_ready.Kernel', handle_kernel_cleanup);\n\n  OutputArea.prototype.register_mime_type(EXEC_MIME_TYPE, append_mime, {\n    safe: true,\n    index: 0\n  });\n}\n\nif (window.Jupyter !== undefined) {\n  try {\n    var events = require('base/js/events');\n    var OutputArea = require('notebook/js/outputarea').OutputArea;\n    if (OutputArea.prototype.mime_types().indexOf(EXEC_MIME_TYPE) == -1) {\n      register_renderer(events, OutputArea);\n    }\n  } catch(err) {\n  }\n}\n",
      "application/vnd.holoviews_load.v0+json": ""
     },
     "metadata": {},
     "output_type": "display_data"
    },
    {
     "data": {
      "text/html": [
       "<style>*[data-root-id],\n",
       "*[data-root-id] > * {\n",
       "  box-sizing: border-box;\n",
       "  font-family: var(--jp-ui-font-family);\n",
       "  font-size: var(--jp-ui-font-size1);\n",
       "  color: var(--vscode-editor-foreground, var(--jp-ui-font-color1));\n",
       "}\n",
       "\n",
       "/* Override VSCode background color */\n",
       ".cell-output-ipywidget-background:has(\n",
       "    > .cell-output-ipywidget-background > .lm-Widget > *[data-root-id]\n",
       "  ),\n",
       ".cell-output-ipywidget-background:has(> .lm-Widget > *[data-root-id]) {\n",
       "  background-color: transparent !important;\n",
       "}\n",
       "</style>"
      ]
     },
     "metadata": {},
     "output_type": "display_data"
    },
    {
     "data": {
      "application/vnd.holoviews_exec.v0+json": "",
      "text/html": [
       "<div id='p1002'>\n",
       "  <div id=\"d5d9df93-d00e-4a6f-a340-2a6f47257b46\" data-root-id=\"p1002\" style=\"display: contents;\"></div>\n",
       "</div>\n",
       "<script type=\"application/javascript\">(function(root) {\n",
       "  var docs_json = {\"63f16a18-7cf5-4fdc-b216-9d2770352d04\":{\"version\":\"3.3.4\",\"title\":\"Bokeh Application\",\"roots\":[{\"type\":\"object\",\"name\":\"panel.models.browser.BrowserInfo\",\"id\":\"p1002\"},{\"type\":\"object\",\"name\":\"panel.models.comm_manager.CommManager\",\"id\":\"p1003\",\"attributes\":{\"plot_id\":\"p1002\",\"comm_id\":\"c0b6f02ff7794191bedd80799274c3d6\",\"client_comm_id\":\"4d3ef2cb08f746afa5c920eb4594e893\"}}],\"defs\":[{\"type\":\"model\",\"name\":\"ReactiveHTML1\"},{\"type\":\"model\",\"name\":\"FlexBox1\",\"properties\":[{\"name\":\"align_content\",\"kind\":\"Any\",\"default\":\"flex-start\"},{\"name\":\"align_items\",\"kind\":\"Any\",\"default\":\"flex-start\"},{\"name\":\"flex_direction\",\"kind\":\"Any\",\"default\":\"row\"},{\"name\":\"flex_wrap\",\"kind\":\"Any\",\"default\":\"wrap\"},{\"name\":\"justify_content\",\"kind\":\"Any\",\"default\":\"flex-start\"}]},{\"type\":\"model\",\"name\":\"FloatPanel1\",\"properties\":[{\"name\":\"config\",\"kind\":\"Any\",\"default\":{\"type\":\"map\"}},{\"name\":\"contained\",\"kind\":\"Any\",\"default\":true},{\"name\":\"position\",\"kind\":\"Any\",\"default\":\"right-top\"},{\"name\":\"offsetx\",\"kind\":\"Any\",\"default\":null},{\"name\":\"offsety\",\"kind\":\"Any\",\"default\":null},{\"name\":\"theme\",\"kind\":\"Any\",\"default\":\"primary\"},{\"name\":\"status\",\"kind\":\"Any\",\"default\":\"normalized\"}]},{\"type\":\"model\",\"name\":\"GridStack1\",\"properties\":[{\"name\":\"mode\",\"kind\":\"Any\",\"default\":\"warn\"},{\"name\":\"ncols\",\"kind\":\"Any\",\"default\":null},{\"name\":\"nrows\",\"kind\":\"Any\",\"default\":null},{\"name\":\"allow_resize\",\"kind\":\"Any\",\"default\":true},{\"name\":\"allow_drag\",\"kind\":\"Any\",\"default\":true},{\"name\":\"state\",\"kind\":\"Any\",\"default\":[]}]},{\"type\":\"model\",\"name\":\"drag1\",\"properties\":[{\"name\":\"slider_width\",\"kind\":\"Any\",\"default\":5},{\"name\":\"slider_color\",\"kind\":\"Any\",\"default\":\"black\"},{\"name\":\"value\",\"kind\":\"Any\",\"default\":50}]},{\"type\":\"model\",\"name\":\"click1\",\"properties\":[{\"name\":\"terminal_output\",\"kind\":\"Any\",\"default\":\"\"},{\"name\":\"debug_name\",\"kind\":\"Any\",\"default\":\"\"},{\"name\":\"clears\",\"kind\":\"Any\",\"default\":0}]},{\"type\":\"model\",\"name\":\"copy_to_clipboard1\",\"properties\":[{\"name\":\"fill\",\"kind\":\"Any\",\"default\":\"none\"},{\"name\":\"value\",\"kind\":\"Any\",\"default\":null}]},{\"type\":\"model\",\"name\":\"FastWrapper1\",\"properties\":[{\"name\":\"object\",\"kind\":\"Any\",\"default\":null},{\"name\":\"style\",\"kind\":\"Any\",\"default\":null}]},{\"type\":\"model\",\"name\":\"NotificationAreaBase1\",\"properties\":[{\"name\":\"js_events\",\"kind\":\"Any\",\"default\":{\"type\":\"map\"}},{\"name\":\"position\",\"kind\":\"Any\",\"default\":\"bottom-right\"},{\"name\":\"_clear\",\"kind\":\"Any\",\"default\":0}]},{\"type\":\"model\",\"name\":\"NotificationArea1\",\"properties\":[{\"name\":\"js_events\",\"kind\":\"Any\",\"default\":{\"type\":\"map\"}},{\"name\":\"notifications\",\"kind\":\"Any\",\"default\":[]},{\"name\":\"position\",\"kind\":\"Any\",\"default\":\"bottom-right\"},{\"name\":\"_clear\",\"kind\":\"Any\",\"default\":0},{\"name\":\"types\",\"kind\":\"Any\",\"default\":[{\"type\":\"map\",\"entries\":[[\"type\",\"warning\"],[\"background\",\"#ffc107\"],[\"icon\",{\"type\":\"map\",\"entries\":[[\"className\",\"fas fa-exclamation-triangle\"],[\"tagName\",\"i\"],[\"color\",\"white\"]]}]]},{\"type\":\"map\",\"entries\":[[\"type\",\"info\"],[\"background\",\"#007bff\"],[\"icon\",{\"type\":\"map\",\"entries\":[[\"className\",\"fas fa-info-circle\"],[\"tagName\",\"i\"],[\"color\",\"white\"]]}]]}]}]},{\"type\":\"model\",\"name\":\"Notification\",\"properties\":[{\"name\":\"background\",\"kind\":\"Any\",\"default\":null},{\"name\":\"duration\",\"kind\":\"Any\",\"default\":3000},{\"name\":\"icon\",\"kind\":\"Any\",\"default\":null},{\"name\":\"message\",\"kind\":\"Any\",\"default\":\"\"},{\"name\":\"notification_type\",\"kind\":\"Any\",\"default\":null},{\"name\":\"_destroyed\",\"kind\":\"Any\",\"default\":false}]},{\"type\":\"model\",\"name\":\"TemplateActions1\",\"properties\":[{\"name\":\"open_modal\",\"kind\":\"Any\",\"default\":0},{\"name\":\"close_modal\",\"kind\":\"Any\",\"default\":0}]},{\"type\":\"model\",\"name\":\"BootstrapTemplateActions1\",\"properties\":[{\"name\":\"open_modal\",\"kind\":\"Any\",\"default\":0},{\"name\":\"close_modal\",\"kind\":\"Any\",\"default\":0}]},{\"type\":\"model\",\"name\":\"MaterialTemplateActions1\",\"properties\":[{\"name\":\"open_modal\",\"kind\":\"Any\",\"default\":0},{\"name\":\"close_modal\",\"kind\":\"Any\",\"default\":0}]}]}};\n",
       "  var render_items = [{\"docid\":\"63f16a18-7cf5-4fdc-b216-9d2770352d04\",\"roots\":{\"p1002\":\"d5d9df93-d00e-4a6f-a340-2a6f47257b46\"},\"root_ids\":[\"p1002\"]}];\n",
       "  var docs = Object.values(docs_json)\n",
       "  if (!docs) {\n",
       "    return\n",
       "  }\n",
       "  const py_version = docs[0].version.replace('rc', '-rc.').replace('.dev', '-dev.')\n",
       "  function embed_document(root) {\n",
       "    var Bokeh = get_bokeh(root)\n",
       "    Bokeh.embed.embed_items_notebook(docs_json, render_items);\n",
       "    for (const render_item of render_items) {\n",
       "      for (const root_id of render_item.root_ids) {\n",
       "\tconst id_el = document.getElementById(root_id)\n",
       "\tif (id_el.children.length && (id_el.children[0].className === 'bk-root')) {\n",
       "\t  const root_el = id_el.children[0]\n",
       "\t  root_el.id = root_el.id + '-rendered'\n",
       "\t}\n",
       "      }\n",
       "    }\n",
       "  }\n",
       "  function get_bokeh(root) {\n",
       "    if (root.Bokeh === undefined) {\n",
       "      return null\n",
       "    } else if (root.Bokeh.version !== py_version) {\n",
       "      if (root.Bokeh.versions === undefined || !root.Bokeh.versions.has(py_version)) {\n",
       "\treturn null\n",
       "      }\n",
       "      return root.Bokeh.versions.get(py_version);\n",
       "    } else if (root.Bokeh.version === py_version) {\n",
       "      return root.Bokeh\n",
       "    }\n",
       "    return null\n",
       "  }\n",
       "  function is_loaded(root) {\n",
       "    var Bokeh = get_bokeh(root)\n",
       "    return (Bokeh != null && Bokeh.Panel !== undefined)\n",
       "  }\n",
       "  if (is_loaded(root)) {\n",
       "    embed_document(root);\n",
       "  } else {\n",
       "    var attempts = 0;\n",
       "    var timer = setInterval(function(root) {\n",
       "      if (is_loaded(root)) {\n",
       "        clearInterval(timer);\n",
       "        embed_document(root);\n",
       "      } else if (document.readyState == \"complete\") {\n",
       "        attempts++;\n",
       "        if (attempts > 200) {\n",
       "          clearInterval(timer);\n",
       "\t  var Bokeh = get_bokeh(root)\n",
       "\t  if (Bokeh == null || Bokeh.Panel == null) {\n",
       "            console.warn(\"Panel: ERROR: Unable to run Panel code because Bokeh or Panel library is missing\");\n",
       "\t  } else {\n",
       "\t    console.warn(\"Panel: WARNING: Attempting to render but not all required libraries could be resolved.\")\n",
       "\t    embed_document(root)\n",
       "\t  }\n",
       "        }\n",
       "      }\n",
       "    }, 25, root)\n",
       "  }\n",
       "})(window);</script>"
      ]
     },
     "metadata": {
      "application/vnd.holoviews_exec.v0+json": {
       "id": "p1002"
      }
     },
     "output_type": "display_data"
    }
   ],
   "source": [
    "# Import required libraries\n",
    "import numpy as np\n",
    "import pandas as pd\n",
    "import hvplot.pandas\n",
    "from pathlib import Path\n",
    "from sklearn.linear_model import LinearRegression"
   ]
  },
  {
   "cell_type": "code",
   "execution_count": 17,
   "metadata": {},
   "outputs": [
    {
     "name": "stdout",
     "output_type": "stream",
     "text": [
      "Rows without the correct delimiter (,): [0, 1, 2, 3, 4, 5, 6, 7, 8, 9, 10, 11, 12, 13, 14, 15, 16, 17, 18, 19, 20, 21, 22, 23, 24, 25, 26, 27, 28, 29, 30, 31, 32, 33, 34, 35, 36, 37, 38, 39, 40, 41, 42, 43, 44, 45, 46, 47, 48, 49, 50, 51, 52, 53, 54, 55, 56, 57, 58, 59, 60, 61, 62, 63, 64, 65, 66, 67, 68, 69, 70, 71, 72, 73, 74, 75, 76, 77, 78, 79, 80, 81, 82, 83, 84, 85, 86, 87, 88, 89, 90, 91, 92, 93, 94, 95, 96, 97, 98, 99, 100, 101, 102, 103, 104, 105, 106, 107, 108, 109, 110, 111, 112, 113, 114, 115, 116, 117, 118, 119, 120, 121, 122, 123, 124, 125, 126, 127, 128, 129, 130, 131, 132, 133, 134, 135, 136, 137, 138, 139, 140, 141, 142, 143, 144, 145, 146, 147, 148, 149, 150, 151, 152, 153, 154, 155, 156, 157, 158, 159, 160, 161, 162, 163, 164, 165, 166, 167, 168, 169, 170, 171, 172, 173, 174, 175, 176, 177, 178, 179, 180, 181, 182, 183, 184, 185, 186, 187, 188, 189, 190, 191, 192, 193, 194, 195, 196, 197, 198, 199, 200, 201, 202, 203, 204, 205, 206, 207, 208, 209, 210, 211, 212, 213, 214, 215, 216, 217, 218, 219, 220, 221, 222, 223, 224, 225, 226, 227, 228, 229, 230, 231, 232, 233, 234, 235, 236, 237, 238, 239, 240, 241, 242, 243, 244, 245, 246, 247, 248, 249, 250, 251, 252, 253, 254, 255, 256, 257, 258, 259, 260, 261, 262, 263, 264, 265, 266, 267, 268, 269, 270, 271, 272, 273, 274, 275, 276, 277, 278, 279, 280, 281, 282, 283, 284, 285, 286, 287, 288, 289, 290, 291, 292, 293, 294, 295, 296, 297, 298, 299, 300, 301, 302, 303, 304, 305, 306, 307, 308, 309, 310, 311, 312, 313, 314, 315, 316, 317, 318, 319, 320, 321, 322, 323, 324, 325, 326, 327, 328, 329, 330, 331, 332, 333, 334, 335, 336, 337, 338, 339, 340, 341, 342, 343, 344, 345, 346, 347, 348, 349, 350, 351, 352, 353, 354, 355, 356, 357, 358, 359, 360, 361, 362, 363, 364, 365, 366, 367, 368, 369, 370, 371, 372, 373, 374, 375, 376, 377, 378, 379, 380, 381, 382, 383, 384, 385, 386, 387, 388, 389, 390, 391, 392, 393, 394, 395, 396, 397, 398, 399, 400, 401, 402, 403, 404, 405, 406, 407, 408, 409, 410, 411, 412, 413, 414, 415, 416, 417, 418, 419, 420, 421, 422, 423, 424, 425, 426, 427, 428, 429, 430, 431, 432, 433, 434, 435, 436, 437, 438, 439, 440, 441, 442, 443, 444, 445, 446, 447, 448, 449, 450, 451, 452, 453, 454, 455, 456, 457, 458, 459, 460, 461, 462, 463, 464, 465, 466, 467, 468, 469, 470, 471, 472, 473, 474, 475, 476, 477, 478, 479, 480, 481, 482, 483, 484, 485, 486, 487, 488, 489, 490, 491, 492, 493, 494, 495, 496, 497, 498, 499, 500, 501, 502, 503, 504, 505, 506, 507, 508, 509, 510, 511, 512, 513, 514, 515, 516, 517, 518, 519, 520, 521, 522, 523, 524, 525, 526, 527, 528, 529, 530, 531, 532, 533, 534, 535, 536, 537, 538, 539, 540, 541, 542, 543, 544, 545, 546, 547, 548, 549, 550, 551, 552, 553, 554, 555, 556, 557, 558, 559, 560, 561, 562, 563, 564, 565, 566, 567, 568, 569, 570, 571, 572, 573, 574, 575, 576, 577, 578, 579, 580, 581, 582, 583, 584, 585, 586, 587, 588, 589, 590, 591, 592, 593, 594, 595, 596, 597, 598, 599, 600, 601, 602, 603, 604, 605, 606, 607, 608, 609, 610, 611, 612, 613, 614, 615, 616, 617, 618, 619, 620, 621, 622, 623, 624, 625, 626, 627, 628, 629, 630, 631, 632, 633, 634, 635, 636, 637, 638, 639, 640, 641, 642, 643, 644, 645, 646, 647, 648, 649, 650, 651, 652, 653, 654, 655, 656, 657, 658, 659, 660, 661, 662, 663, 664, 665, 666, 667, 668, 669, 670, 671, 672, 673, 674, 675, 676, 677, 678, 679, 680, 681, 682, 683, 684, 685, 686, 687, 688, 689, 690, 691, 692, 693, 694, 695, 696, 697, 698, 699, 700, 701, 702, 703, 704, 705, 706, 707, 708, 709, 710, 711, 712, 713, 714, 715, 716, 717, 718, 719, 720, 721, 722, 723, 724, 725, 726, 727, 728, 729, 730, 731, 732, 733, 734, 735, 736, 737, 738, 739, 740, 741, 742, 743, 744, 745, 746, 747, 748, 749, 750, 751, 752, 753, 754, 755, 756, 757, 758, 759, 760, 761, 762, 763, 764, 765, 766, 767, 768, 769, 770, 771, 772, 773, 774, 775, 776, 777, 778, 779, 780, 781, 782, 783, 784, 785, 786, 787, 788, 789, 790, 791, 792, 793, 794, 795, 796, 797, 798, 799, 800, 801, 802, 803, 804, 805, 806, 807, 808, 809, 810, 811, 812, 813, 814, 815, 816, 817, 818, 819, 820, 821, 822, 823, 824, 825, 826, 827, 828, 829, 830, 831, 832, 833, 834, 835, 836, 837, 838, 839, 840, 841, 842, 843, 844, 845, 846, 847, 848, 849, 850, 851, 852, 853, 854, 855, 856, 857, 858, 859, 860, 861, 862, 863, 864, 865, 866, 867, 868, 869, 870, 871, 872, 873, 874, 875, 876, 877, 878, 879, 880, 881, 882, 883, 884, 885, 886, 887, 888, 889, 890, 891, 892, 893, 894, 895, 896, 897, 898, 899, 900, 901, 902, 903, 904, 905, 906, 907, 908, 909, 910, 911, 912, 913, 914, 915, 916, 917, 918, 919, 920, 921, 922, 923, 924, 925, 926, 927, 928, 929, 930, 931, 932, 933, 934, 935, 936, 937, 938, 939, 940, 941, 942, 943, 944, 945, 946, 947, 948, 949, 950, 951, 952]\n"
     ]
    }
   ],
   "source": [
    "import pandas as pd\n",
    "\n",
    "# Load the CSV file directly with quotechar\n",
    "data = pd.read_csv(\"Resources/spotify-2023.csv\", encoding='latin-1', quotechar='\"')\n",
    "\n",
    "# Check for rows with incorrect delimiters\n",
    "rows_without_delimiter = []\n",
    "for index, row in data.iterrows():\n",
    "    row_data = row.str.split(',')\n",
    "    if len(row_data) != 26:  # Assuming there are 26 columns in each row\n",
    "        rows_without_delimiter.append(index)\n",
    "\n",
    "# Display the rows without the correct delimiter\n",
    "print(\"Rows without the correct delimiter (,):\", rows_without_delimiter)\n",
    "\n",
    "# Identify and remove rows with non-numeric values in specific columns\n",
    "try:\n",
    "    data['streams'] = pd.to_numeric(data['streams'])  # Convert 'streams' column to numeric\n",
    "except ValueError as e:\n",
    "    problematic_row_index = data[data['streams'].apply(lambda x: not x.isnumeric())].index[0]\n",
    "    data = data.drop(problematic_row_index)\n",
    "\n",
    "# Save the cleaned data back to a new CSV file\n",
    "data.to_csv('cleaned_spotify_data.csv', index=False)"
   ]
  },
  {
   "cell_type": "code",
   "execution_count": 20,
   "metadata": {},
   "outputs": [
    {
     "data": {
      "text/html": [
       "<div>\n",
       "<style scoped>\n",
       "    .dataframe tbody tr th:only-of-type {\n",
       "        vertical-align: middle;\n",
       "    }\n",
       "\n",
       "    .dataframe tbody tr th {\n",
       "        vertical-align: top;\n",
       "    }\n",
       "\n",
       "    .dataframe thead th {\n",
       "        text-align: right;\n",
       "    }\n",
       "</style>\n",
       "<table border=\"1\" class=\"dataframe\">\n",
       "  <thead>\n",
       "    <tr style=\"text-align: right;\">\n",
       "      <th></th>\n",
       "      <th>track_name</th>\n",
       "      <th>artist(s)_name</th>\n",
       "      <th>artist_count</th>\n",
       "      <th>released_year</th>\n",
       "      <th>released_month</th>\n",
       "      <th>released_day</th>\n",
       "      <th>in_spotify_playlists</th>\n",
       "      <th>in_spotify_charts</th>\n",
       "      <th>streams</th>\n",
       "      <th>in_apple_playlists</th>\n",
       "      <th>...</th>\n",
       "      <th>bpm</th>\n",
       "      <th>key</th>\n",
       "      <th>mode</th>\n",
       "      <th>danceability_%</th>\n",
       "      <th>valence_%</th>\n",
       "      <th>energy_%</th>\n",
       "      <th>acousticness_%</th>\n",
       "      <th>instrumentalness_%</th>\n",
       "      <th>liveness_%</th>\n",
       "      <th>speechiness_%</th>\n",
       "    </tr>\n",
       "  </thead>\n",
       "  <tbody>\n",
       "    <tr>\n",
       "      <th>0</th>\n",
       "      <td>Seven (feat. Latto) (Explicit Ver.)</td>\n",
       "      <td>Latto, Jung Kook</td>\n",
       "      <td>2</td>\n",
       "      <td>2023</td>\n",
       "      <td>7</td>\n",
       "      <td>14</td>\n",
       "      <td>553</td>\n",
       "      <td>147</td>\n",
       "      <td>141381703</td>\n",
       "      <td>43</td>\n",
       "      <td>...</td>\n",
       "      <td>125</td>\n",
       "      <td>B</td>\n",
       "      <td>Major</td>\n",
       "      <td>80</td>\n",
       "      <td>89</td>\n",
       "      <td>83</td>\n",
       "      <td>31</td>\n",
       "      <td>0</td>\n",
       "      <td>8</td>\n",
       "      <td>4</td>\n",
       "    </tr>\n",
       "    <tr>\n",
       "      <th>1</th>\n",
       "      <td>LALA</td>\n",
       "      <td>Myke Towers</td>\n",
       "      <td>1</td>\n",
       "      <td>2023</td>\n",
       "      <td>3</td>\n",
       "      <td>23</td>\n",
       "      <td>1474</td>\n",
       "      <td>48</td>\n",
       "      <td>133716286</td>\n",
       "      <td>48</td>\n",
       "      <td>...</td>\n",
       "      <td>92</td>\n",
       "      <td>C#</td>\n",
       "      <td>Major</td>\n",
       "      <td>71</td>\n",
       "      <td>61</td>\n",
       "      <td>74</td>\n",
       "      <td>7</td>\n",
       "      <td>0</td>\n",
       "      <td>10</td>\n",
       "      <td>4</td>\n",
       "    </tr>\n",
       "    <tr>\n",
       "      <th>2</th>\n",
       "      <td>vampire</td>\n",
       "      <td>Olivia Rodrigo</td>\n",
       "      <td>1</td>\n",
       "      <td>2023</td>\n",
       "      <td>6</td>\n",
       "      <td>30</td>\n",
       "      <td>1397</td>\n",
       "      <td>113</td>\n",
       "      <td>140003974</td>\n",
       "      <td>94</td>\n",
       "      <td>...</td>\n",
       "      <td>138</td>\n",
       "      <td>F</td>\n",
       "      <td>Major</td>\n",
       "      <td>51</td>\n",
       "      <td>32</td>\n",
       "      <td>53</td>\n",
       "      <td>17</td>\n",
       "      <td>0</td>\n",
       "      <td>31</td>\n",
       "      <td>6</td>\n",
       "    </tr>\n",
       "    <tr>\n",
       "      <th>3</th>\n",
       "      <td>Cruel Summer</td>\n",
       "      <td>Taylor Swift</td>\n",
       "      <td>1</td>\n",
       "      <td>2019</td>\n",
       "      <td>8</td>\n",
       "      <td>23</td>\n",
       "      <td>7858</td>\n",
       "      <td>100</td>\n",
       "      <td>800840817</td>\n",
       "      <td>116</td>\n",
       "      <td>...</td>\n",
       "      <td>170</td>\n",
       "      <td>A</td>\n",
       "      <td>Major</td>\n",
       "      <td>55</td>\n",
       "      <td>58</td>\n",
       "      <td>72</td>\n",
       "      <td>11</td>\n",
       "      <td>0</td>\n",
       "      <td>11</td>\n",
       "      <td>15</td>\n",
       "    </tr>\n",
       "    <tr>\n",
       "      <th>4</th>\n",
       "      <td>WHERE SHE GOES</td>\n",
       "      <td>Bad Bunny</td>\n",
       "      <td>1</td>\n",
       "      <td>2023</td>\n",
       "      <td>5</td>\n",
       "      <td>18</td>\n",
       "      <td>3133</td>\n",
       "      <td>50</td>\n",
       "      <td>303236322</td>\n",
       "      <td>84</td>\n",
       "      <td>...</td>\n",
       "      <td>144</td>\n",
       "      <td>A</td>\n",
       "      <td>Minor</td>\n",
       "      <td>65</td>\n",
       "      <td>23</td>\n",
       "      <td>80</td>\n",
       "      <td>14</td>\n",
       "      <td>63</td>\n",
       "      <td>11</td>\n",
       "      <td>6</td>\n",
       "    </tr>\n",
       "  </tbody>\n",
       "</table>\n",
       "<p>5 rows × 24 columns</p>\n",
       "</div>"
      ],
      "text/plain": [
       "                            track_name    artist(s)_name  artist_count  \\\n",
       "0  Seven (feat. Latto) (Explicit Ver.)  Latto, Jung Kook             2   \n",
       "1                                 LALA       Myke Towers             1   \n",
       "2                              vampire    Olivia Rodrigo             1   \n",
       "3                         Cruel Summer      Taylor Swift             1   \n",
       "4                       WHERE SHE GOES         Bad Bunny             1   \n",
       "\n",
       "   released_year  released_month  released_day  in_spotify_playlists  \\\n",
       "0           2023               7            14                   553   \n",
       "1           2023               3            23                  1474   \n",
       "2           2023               6            30                  1397   \n",
       "3           2019               8            23                  7858   \n",
       "4           2023               5            18                  3133   \n",
       "\n",
       "   in_spotify_charts    streams  in_apple_playlists  ...  bpm key   mode  \\\n",
       "0                147  141381703                  43  ...  125   B  Major   \n",
       "1                 48  133716286                  48  ...   92  C#  Major   \n",
       "2                113  140003974                  94  ...  138   F  Major   \n",
       "3                100  800840817                 116  ...  170   A  Major   \n",
       "4                 50  303236322                  84  ...  144   A  Minor   \n",
       "\n",
       "  danceability_%  valence_% energy_% acousticness_%  instrumentalness_%  \\\n",
       "0             80         89       83             31                   0   \n",
       "1             71         61       74              7                   0   \n",
       "2             51         32       53             17                   0   \n",
       "3             55         58       72             11                   0   \n",
       "4             65         23       80             14                  63   \n",
       "\n",
       "   liveness_%  speechiness_%  \n",
       "0           8              4  \n",
       "1          10              4  \n",
       "2          31              6  \n",
       "3          11             15  \n",
       "4          11              6  \n",
       "\n",
       "[5 rows x 24 columns]"
      ]
     },
     "execution_count": 20,
     "metadata": {},
     "output_type": "execute_result"
    }
   ],
   "source": [
    "data = Path('cleaned_spotify_data.csv')\n",
    "df = pd.read_csv(data, delimiter=',', encoding='latin1', quoting=1)\n",
    "df.head()"
   ]
  },
  {
   "cell_type": "code",
   "execution_count": 21,
   "metadata": {},
   "outputs": [
    {
     "name": "stdout",
     "output_type": "stream",
     "text": [
      "                              track_name    streams  bpm\n",
      "0    Seven (feat. Latto) (Explicit Ver.)  141381703  125\n",
      "1                                   LALA  133716286   92\n",
      "2                                vampire  140003974  138\n",
      "3                           Cruel Summer  800840817  170\n",
      "4                         WHERE SHE GOES  303236322  144\n",
      "..                                   ...        ...  ...\n",
      "947                         My Mind & Me   91473363  144\n",
      "948            Bigger Than The Whole Sky  121871870  166\n",
      "949                 A Veces (feat. Feid)   73513683   92\n",
      "950                        En La De Ella  133895612   97\n",
      "951                                Alone   96007391   90\n",
      "\n",
      "[952 rows x 3 columns]\n"
     ]
    }
   ],
   "source": [
    "#Drop unessecary columns to prevent csv from creating error messages\n",
    "new_data = df[['track_name', 'streams', 'bpm']]\n",
    "\n",
    "# Print the new DataFrame with the selected columns\n",
    "print(new_data)\n",
    "\n"
   ]
  },
  {
   "cell_type": "code",
   "execution_count": 48,
   "metadata": {},
   "outputs": [
    {
     "data": {},
     "metadata": {},
     "output_type": "display_data"
    },
    {
     "data": {
      "application/vnd.holoviews_exec.v0+json": "",
      "text/html": [
       "<div id='p1269'>\n",
       "  <div id=\"ad8ce435-bf53-45a4-b88d-a66f75da17fc\" data-root-id=\"p1269\" style=\"display: contents;\"></div>\n",
       "</div>\n",
       "<script type=\"application/javascript\">(function(root) {\n",
       "  var docs_json = {\"188ae303-394a-4f9e-9665-e50002c54f1d\":{\"version\":\"3.3.4\",\"title\":\"Bokeh Application\",\"roots\":[{\"type\":\"object\",\"name\":\"Row\",\"id\":\"p1269\",\"attributes\":{\"name\":\"Row01426\",\"tags\":[\"embedded\"],\"stylesheets\":[\"\\n:host(.pn-loading.pn-arc):before, .pn-loading.pn-arc:before {\\n  background-image: url(\\\"data:image/svg+xml;base64,PHN2ZyB4bWxucz0iaHR0cDovL3d3dy53My5vcmcvMjAwMC9zdmciIHN0eWxlPSJtYXJnaW46IGF1dG87IGJhY2tncm91bmQ6IG5vbmU7IGRpc3BsYXk6IGJsb2NrOyBzaGFwZS1yZW5kZXJpbmc6IGF1dG87IiB2aWV3Qm94PSIwIDAgMTAwIDEwMCIgcHJlc2VydmVBc3BlY3RSYXRpbz0ieE1pZFlNaWQiPiAgPGNpcmNsZSBjeD0iNTAiIGN5PSI1MCIgZmlsbD0ibm9uZSIgc3Ryb2tlPSIjYzNjM2MzIiBzdHJva2Utd2lkdGg9IjEwIiByPSIzNSIgc3Ryb2tlLWRhc2hhcnJheT0iMTY0LjkzMzYxNDMxMzQ2NDE1IDU2Ljk3Nzg3MTQzNzgyMTM4Ij4gICAgPGFuaW1hdGVUcmFuc2Zvcm0gYXR0cmlidXRlTmFtZT0idHJhbnNmb3JtIiB0eXBlPSJyb3RhdGUiIHJlcGVhdENvdW50PSJpbmRlZmluaXRlIiBkdXI9IjFzIiB2YWx1ZXM9IjAgNTAgNTA7MzYwIDUwIDUwIiBrZXlUaW1lcz0iMDsxIj48L2FuaW1hdGVUcmFuc2Zvcm0+ICA8L2NpcmNsZT48L3N2Zz4=\\\");\\n  background-size: auto calc(min(50%, 400px));\\n}\",{\"type\":\"object\",\"name\":\"ImportedStyleSheet\",\"id\":\"p1272\",\"attributes\":{\"url\":\"https://cdn.holoviz.org/panel/1.3.8/dist/css/loading.css\"}},{\"type\":\"object\",\"name\":\"ImportedStyleSheet\",\"id\":\"p1328\",\"attributes\":{\"url\":\"https://cdn.holoviz.org/panel/1.3.8/dist/css/listpanel.css\"}},{\"type\":\"object\",\"name\":\"ImportedStyleSheet\",\"id\":\"p1270\",\"attributes\":{\"url\":\"https://cdn.holoviz.org/panel/1.3.8/dist/bundled/theme/default.css\"}},{\"type\":\"object\",\"name\":\"ImportedStyleSheet\",\"id\":\"p1271\",\"attributes\":{\"url\":\"https://cdn.holoviz.org/panel/1.3.8/dist/bundled/theme/native.css\"}}],\"min_width\":700,\"margin\":0,\"sizing_mode\":\"stretch_width\",\"align\":\"start\",\"children\":[{\"type\":\"object\",\"name\":\"Spacer\",\"id\":\"p1273\",\"attributes\":{\"name\":\"HSpacer01433\",\"stylesheets\":[\"\\n:host(.pn-loading.pn-arc):before, .pn-loading.pn-arc:before {\\n  background-image: url(\\\"data:image/svg+xml;base64,PHN2ZyB4bWxucz0iaHR0cDovL3d3dy53My5vcmcvMjAwMC9zdmciIHN0eWxlPSJtYXJnaW46IGF1dG87IGJhY2tncm91bmQ6IG5vbmU7IGRpc3BsYXk6IGJsb2NrOyBzaGFwZS1yZW5kZXJpbmc6IGF1dG87IiB2aWV3Qm94PSIwIDAgMTAwIDEwMCIgcHJlc2VydmVBc3BlY3RSYXRpbz0ieE1pZFlNaWQiPiAgPGNpcmNsZSBjeD0iNTAiIGN5PSI1MCIgZmlsbD0ibm9uZSIgc3Ryb2tlPSIjYzNjM2MzIiBzdHJva2Utd2lkdGg9IjEwIiByPSIzNSIgc3Ryb2tlLWRhc2hhcnJheT0iMTY0LjkzMzYxNDMxMzQ2NDE1IDU2Ljk3Nzg3MTQzNzgyMTM4Ij4gICAgPGFuaW1hdGVUcmFuc2Zvcm0gYXR0cmlidXRlTmFtZT0idHJhbnNmb3JtIiB0eXBlPSJyb3RhdGUiIHJlcGVhdENvdW50PSJpbmRlZmluaXRlIiBkdXI9IjFzIiB2YWx1ZXM9IjAgNTAgNTA7MzYwIDUwIDUwIiBrZXlUaW1lcz0iMDsxIj48L2FuaW1hdGVUcmFuc2Zvcm0+ICA8L2NpcmNsZT48L3N2Zz4=\\\");\\n  background-size: auto calc(min(50%, 400px));\\n}\",{\"id\":\"p1272\"},{\"id\":\"p1270\"},{\"id\":\"p1271\"}],\"margin\":0,\"sizing_mode\":\"stretch_width\",\"align\":\"start\"}},{\"type\":\"object\",\"name\":\"Figure\",\"id\":\"p1281\",\"attributes\":{\"width\":700,\"height\":300,\"margin\":[5,10],\"sizing_mode\":\"fixed\",\"align\":\"start\",\"x_range\":{\"type\":\"object\",\"name\":\"Range1d\",\"id\":\"p1274\",\"attributes\":{\"tags\":[[[\"streams\",\"streams\",null]],[]],\"start\":-158735479.94285715,\"end\":3862633315.9428573,\"reset_start\":-158735479.94285715,\"reset_end\":3862633315.9428573}},\"y_range\":{\"type\":\"object\",\"name\":\"Range1d\",\"id\":\"p1275\",\"attributes\":{\"tags\":[[[\"bpm\",\"bpm\",null]],{\"type\":\"map\",\"entries\":[[\"invert_yaxis\",false],[\"autorange\",false]]}],\"start\":50.9,\"end\":220.1,\"reset_start\":50.9,\"reset_end\":220.1}},\"x_scale\":{\"type\":\"object\",\"name\":\"LinearScale\",\"id\":\"p1291\"},\"y_scale\":{\"type\":\"object\",\"name\":\"LinearScale\",\"id\":\"p1292\"},\"title\":{\"type\":\"object\",\"name\":\"Title\",\"id\":\"p1284\",\"attributes\":{\"text\":\"Streams - BPM\",\"text_color\":\"black\",\"text_font_size\":\"12pt\"}},\"renderers\":[{\"type\":\"object\",\"name\":\"GlyphRenderer\",\"id\":\"p1321\",\"attributes\":{\"data_source\":{\"type\":\"object\",\"name\":\"ColumnDataSource\",\"id\":\"p1312\",\"attributes\":{\"selected\":{\"type\":\"object\",\"name\":\"Selection\",\"id\":\"p1313\",\"attributes\":{\"indices\":[],\"line_indices\":[]}},\"selection_policy\":{\"type\":\"object\",\"name\":\"UnionRenderers\",\"id\":\"p1314\"},\"data\":{\"type\":\"map\",\"entries\":[[\"streams\",{\"type\":\"ndarray\",\"array\":[141381703,133716286,140003974,800840817,303236322,183706234,725980112,58149378,95217315,553634067,505671438,58255150,1316855716,387570742,2513188493,1163093654,496795686,30546883,335222234,363369738,86444842,52135248,1297026226,200647221,115364561,78300654,899183384,61245289,429829812,127408954,22581161,52294266,843957510,999748277,618990393,123122413,188933502,1355959075,786181836,176553476,354495408,2808096550,1109433169,1047101291,65156199,570515054,1085685420,1647990401,2565529693,518745108,107753850,177740666,153372011,57876440,1813673666,3703895074,256483385,1214083358,16011326,812019557,111947664,156338624,720434240,357925728,674072710,1755214421,404562836,373199958,14780425,39578178,54266102,2557975762,751134527,2282771485,1356565093,1592909789,635412045,1230675890,585695368,43857627,2009094673,600976848,39709092,39228929,2665343922,223633238,2887241814,1440757818,165484133,58054811,157058870,95131998,250305248,685032533,38411956,144565150,127567540,399686758,983637508,118482347,882831184,286400165,172825906,1241559043,29562220,77309611,1605224506,1116995633,838079900,1163620694,1093605526,179659294,39058561,36912123,1205951614,1791000570,201660859,248088961,90839753,607123776,55842345,211050784,342897938,2762,330346424,601863821,1953533826,2322580122,2355719893,66902503,96273746,430977451,284819874,721975598,1217120710,109276132,276259178,54225632,2559529074,681583126,2594040133,81102253,11956641,1687664027,11599388,611700552,1133865788,1089402494,411747614,255932395,31873544,95053634,1279434863,233801632,1481349984,142095275,618885532,2011464183,1167330737,929964809,436027885,657723613,2713922350,621660989,1591223784,950906471,1593270737,1410088830,1235005533,1661187319,1374581173,94186466,1788326445,1840364617,143573775,684675814,1113838873,1267333350,726307468,3562543890,1131090940,307370144,1271293243,265882712,841749534,47956378,806397070,2132335812,1641426668,2135158446,367316268,350381515,1264310836,30343206,405136812,1145727611,540654286,57312735,397582059,1479115056,86773632,133753727,123124076,463564958,64533040,65496046,68616963,161460990,70106975,113509496,89933133,71007139,43522589,232896922,37126685,195576623,532336353,538115192,46142772,401036314,127026613,345031710,288101651,60350538,335074782,76767396,46065667,459276435,39666245,138517666,822633917,595900742,51985779,57945987,115010040,175097833,57089066,488386797,32761689,1047480053,153454328,217672943,457184829,939844851,726434358,573633020,1406111294,71573339,24975653,145458418,1424589568,231332117,415932686,988515741,50847624,39893489,92035115,118810253,77233241,206399629,117747907,266624541,293186992,139681964,123132751,103762518,162887075,91221625,190490915,96180277,185240616,885093467,104992946,147290338,1302184087,158950978,76910644,137123880,782369383,502574952,207033255,404887295,381161027,466231982,357580552,61105704,198275403,168448603,705469769,34502215,482175240,304118600,1449799467,173627354,90025258,652704649,1829992958,655466831,146409671,95816024,117206995,100409613,80758350,325592432,58473276,52722996,191945597,77377503,743693613,267789608,1221813483,449701773,67070410,116334601,433356509,165584767,367814306,477033549,156214700,448843705,1357608774,294352144,972164968,920045682,2420461338,1947371785,244658767,68216992,223582566,471819764,272377463,1361425037,149778242,116599790,148469433,497225336,88791109,125917280,105062254,95623148,144584800,298063749,166570053,83021468,139836056,303216294,221409663,58890931,81419389,156777415,284908316,93438910,363472647,372476382,380726517,56533272,175399345,203221468,1624165576,134294498,70069745,609293408,671365962,362361576,93587665,1223481149,1022258230,263453310,1435127549,236857112,147538971,698086140,723894473,34450974,403097450,309483971,319566866,909001996,1061966512,32526947,124988687,103787664,134255790,301051721,156338624,152850295,309653982,297328960,332506354,480507035,1065580332,122763672,445763624,1365184,184308753,789753877,323358833,606361689,120972253,338564981,1606986953,1301799902,140187018,1897517891,107642809,551305895,556585270,2303033973,646886885,222612678,1814349763,872137015,571386359,304079786,174006928,284785823,163284000,246390068,482257456,168684524,78489819,195516622,1260594497,428685680,1024858327,838586769,199386237,972509632,213438580,1555511105,210038833,227918678,826623384,1802514301,1329090101,181831132,462791599,348647203,366599607,90598517,1479264469,1449779435,1159176109,769213520,741301563,807561936,834129063,663832097,446390129,690104769,485285717,520034544,476244795,629173063,404664135,98709329,110849052,460492795,94005786,395591396,389771964,403939487,481697415,110073250,88092256,351636786,473248298,73981293,155653938,395591396,429504768,242767149,65362788,67540165,62019074,135723538,295998468,261116938,136689549,135611421,356709897,110649992,301869854,127027715,57144458,56870689,323437194,317726339,116144341,328207708,608228647,180577478,809306935,49262961,614555082,245350949,178660459,51641685,78139948,322336177,1007612429,326792833,391251368,349585590,339659802,674772936,432719968,1309887447,119238316,116903579,888046992,200660871,130655803,1887039593,88103848,101114984,1575467011,91656026,1042568408,1735441776,726837877,53933526,267758538,74601456,920797189,539595276,1367810478,578207856,775542072,863625566,656013912,1056760045,611994237,1230855859,582981380,1858144199,240684449,583687007,63803529,466214729,236940480,41924466,225259194,393230256,287201015,599770206,342779426,673801126,1168642797,540539717,383550148,530511203,37307967,510876816,1445941661,1763363713,374191487,108809090,436695353,421040617,501541661,354065229,1143647827,311395144,672656250,1256880657,1692897992,245095641,686734357,261414174,610045621,1115880852,594482982,566954746,374706940,184937148,31959571,167076418,824420218,363467642,1127468248,60680939,247737946,1699402402,154797871,198883004,124407432,850608354,376333030,516784627,1608045237,506778838,1472799873,513643924,261286503,783706581,422691058,1062345656,1252563873,851070493,263894529,345903614,951637566,956865266,427486004,156658366,624515457,777765388,412795151,1138474110,355219175,290228626,1062956628,1180094974,1456081449,432702334,489945871,465959382,1223481149,2864791672,2288695111,720825549,2086124197,1690192927,991336132,593917618,200972675,71014967,560222750,1806617704,77337771,528544703,865640097,2159346687,211372494,651732901,608334048,863756573,797402345,1695712020,1759567999,223319934,54937991,226897599,258316038,596152090,177129919,716591492,1210599487,246376690,496311364,146789379,843309044,500340342,107255472,135079152,822239726,1202722675,343197054,240769997,426204830,421135627,554875730,467727006,327498031,185408548,245400167,579395142,675039469,252871192,231996128,1929770265,918915401,1180896317,498960285,685071800,258714692,143139338,209768491,64714573,50746620,154119539,181328253,370068639,2280566092,563902868,317622165,291709698,203680270,81350745,282883169,64787943,2484812918,461437791,1439191367,759208783,368646862,299634472,756907987,682475162,546191065,229473310,202677468,121913181,208166039,527033089,94616487,394030335,193443895,299648208,182978249,319757142,109091573,153240879,346127840,312622938,2197010679,1200808494,797196073,1970673297,665765558,263779030,339473453,2204080728,2591224264,135444283,1457139296,236872197,694525298,240661097,421365166,349746291,255120451,190981339,924193303,305771063,273005485,89566512,677389855,75476209,408843328,187772591,178512385,101780047,118381354,146363130,126443991,157990698,176290831,1023187129,106933107,139193812,212234990,1714490998,197643795,807015863,933815613,499710590,120847157,53909146,2236667932,2123309722,301242089,723894473,237351106,461558540,417230415,156898322,127309180,313113297,173702135,271666301,305650299,123216717,479655659,126191104,344055883,338422004,68895644,86176890,403231558,319546754,61739839,283359161,76831876,283332261,307752576,279737940,212351890,1304313953,150500965,246127838,582863434,58687425,212109195,382199619,41210087,231657891,53729194,244741137,42485571,37778188,254218729,53603447,160035717,164163229,37091576,284249832,33381454,184622518,300983101,121077868,106919680,136996305,65719930,229497852,185550869,54682594,240580042,1284942608,71423324,244891912,132171975,184706613,184826429,302006641,330881149,334733572,366214458,114546317,290833204,448500832,136676504,190625045,79095270,273194684,333146475,194902696,311482393,195918494,248511839,233671263,199587884,91781263,383835984,236060709,189236868,160845341,588955257,238350348,187703102,295307001,138334433,445590495,286739476,1122364376,157136970,137070925,183273246,184807630,164856284,704171068,354614964,279717388,195628667,221752937,263280370,213505179,130419412,155795783,1553497987,293466523,711366595,191448892,85924992,176103902,121189256,131746175,244790012,129314708,331511413,219196651,170732845,273914335,179061440,185236961,171788484,387080183,264717480,244928911,97610446,287278853,887906111,123473120,295152154,323455692,240918092,191873381,284216603,239411309,265548837,703301727,244585109,189476119,277132266,278920007,222410722,185392587,202452860,1608164312,624101957,148461629,47093942,380319238,209106362,53987404,115331792,225093344,84697729,159240673,170709584,154356956,723043854,247689123,176474912,235549288,140430339,85559365,146223492,187701588,154863153,191333656,253650850,223064273,170413877,218320587,141720999,187339835,198365537,186104310,177503916,71095708,112436403,203436468,93367537,106249219,181382590,91473363,121871870,73513683,133895612,96007391],\"shape\":[952],\"dtype\":\"object\",\"order\":\"little\"}],[\"bpm\",{\"type\":\"ndarray\",\"array\":{\"type\":\"bytes\",\"data\":\"fQAAAFwAAACKAAAAqgAAAJAAAACNAAAAlAAAAGQAAACCAAAAqgAAAFMAAACWAAAAdgAAAIIAAACuAAAAWQAAAHgAAABOAAAAZAAAAHgAAACMAAAAewAAAIcAAACFAAAAYwAAAIIAAABrAAAAegAAAMwAAABuAAAAfgAAAKgAAABiAAAAYQAAALQAAAB4AAAAlgAAAGAAAABfAAAAfQAAAJAAAABaAAAAgAAAAE8AAACQAAAAegAAAIwAAACGAAAAugAAAEMAAABqAAAAgAAAAGsAAACCAAAAewAAAKsAAACJAAAAfQAAAIAAAACCAAAAggAAAIUAAABlAAAAXwAAAGIAAACtAAAAWgAAAMYAAACMAAAAUgAAAIIAAABRAAAAXgAAAHwAAACAAAAAigAAAIQAAACDAAAAqAAAAGIAAABmAAAAZQAAAIIAAACOAAAAqgAAAHwAAABuAAAAXAAAAHQAAACBAAAAYgAAAKwAAACWAAAAiAAAAFgAAACPAAAAZAAAAI8AAABwAAAAXQAAAM4AAABYAAAAqgAAAFQAAACGAAAAngAAAHQAAAB1AAAAcgAAAGwAAACQAAAAggAAAHQAAAB5AAAAcAAAAGQAAACWAAAAeAAAAH8AAABaAAAAgAAAAI8AAACLAAAAogAAAFwAAABfAAAAkgAAAF8AAABzAAAAgAAAAIIAAAB/AAAAlgAAAHoAAACMAAAAjAAAAHcAAABuAAAAXwAAAIQAAAB9AAAAfAAAAIUAAABwAAAAYQAAAFoAAABQAAAArAAAAHgAAACMAAAAgAAAAHoAAACCAAAAoAAAAJAAAADAAAAAowAAAHoAAACaAAAAdQAAAIoAAABgAAAAaAAAAKQAAAB2AAAAUQAAAHUAAACuAAAAgAAAAJEAAACWAAAAWgAAAFUAAAC0AAAApgAAAKAAAACgAAAAXAAAAKoAAABgAAAAeAAAAGIAAABcAAAAlgAAAF4AAABaAAAAoAAAAHgAAABtAAAAgQAAAJ0AAACCAAAAawAAAJIAAACLAAAAdAAAAF8AAACqAAAAhgAAAFQAAACSAAAASgAAAJAAAACIAAAAZAAAAGkAAABqAAAAhAAAAHgAAACbAAAAgQAAAIcAAABiAAAAfAAAAIcAAABrAAAAYAAAAHsAAABaAAAAdQAAAIUAAABgAAAAlQAAAG4AAABpAAAAaQAAAIYAAACqAAAAUQAAAJoAAACpAAAAcwAAAFQAAABdAAAAWwAAAI4AAAB+AAAAYQAAAGUAAABiAAAAmgAAAHgAAACWAAAArgAAAMoAAACZAAAAjgAAAGwAAACPAAAAbAAAAGgAAABdAAAAaQAAAKoAAACyAAAAsAAAAGgAAABVAAAAdQAAAFAAAABiAAAAsgAAAJQAAAB4AAAAegAAAJAAAABgAAAAiQAAAHkAAAB3AAAAYAAAAG8AAACUAAAAtgAAAI0AAACRAAAAbgAAAIYAAACCAAAAkQAAAIIAAACtAAAAXAAAAGkAAACvAAAAeAAAAIsAAACEAAAAcgAAAJEAAABuAAAAXgAAAIYAAAB4AAAAewAAAIMAAACrAAAAggAAAF4AAABZAAAAVwAAAHwAAABOAAAAeAAAAGAAAABqAAAAqgAAAIYAAABzAAAAggAAAHYAAABuAAAAZAAAAI4AAACMAAAAdAAAAHgAAABcAAAAbgAAAHgAAABQAAAAcwAAAEwAAACsAAAAYwAAAIgAAACWAAAAXAAAAF8AAABmAAAAkQAAAG4AAABfAAAAXgAAAI4AAACRAAAAeQAAAIwAAACJAAAAaAAAAFwAAACSAAAAeAAAAJAAAABeAAAAXgAAAHEAAACUAAAAYgAAAIwAAABkAAAAjAAAAGQAAABkAAAAhAAAAI4AAACwAAAAjAAAAGkAAACHAAAAgAAAAGUAAAB6AAAAaQAAAFMAAABNAAAAjAAAAJ4AAACwAAAAYgAAAGsAAABtAAAAbQAAAJQAAACeAAAAXgAAAGAAAABkAAAAaQAAAH0AAACqAAAAcwAAAHoAAABpAAAAhQAAAGQAAAB4AAAAsQAAAI4AAACQAAAAeAAAAIcAAABrAAAAaQAAAGwAAACTAAAAcwAAAK4AAABaAAAAjQAAAFIAAABcAAAAdAAAAHwAAAB9AAAAWgAAAFMAAAB8AAAAjAAAAJoAAACWAAAAugAAAKYAAABrAAAAVwAAAFIAAAByAAAAlAAAAIwAAABlAAAAjAAAAFgAAAC0AAAAhQAAAGwAAABQAAAASwAAAHkAAACMAAAAfgAAAGYAAABSAAAAeQAAAGcAAABsAAAAVQAAAH0AAAB4AAAAXgAAAIIAAABuAAAAlgAAAGsAAACMAAAAdwAAAF0AAACFAAAAygAAAIYAAABpAAAAoAAAAJQAAACXAAAAogAAAFwAAACYAAAAQQAAAJMAAACWAAAAjAAAAIsAAABfAAAAcwAAAH0AAABMAAAAZQAAAI8AAAB3AAAATgAAAGAAAAC0AAAAfgAAAJYAAABaAAAAoAAAAHIAAABxAAAAkwAAAGQAAACbAAAAawAAAHAAAACmAAAAawAAAFEAAACWAAAAbgAAAGwAAACCAAAApAAAAHIAAABdAAAAWgAAAIAAAABhAAAAmAAAAK8AAAB0AAAAUAAAAF0AAAB6AAAAegAAAIcAAABtAAAAXQAAAH0AAADOAAAAggAAAHkAAAB7AAAAegAAAI8AAAB5AAAApgAAAIcAAABXAAAAbwAAAG4AAACCAAAAswAAAF0AAABOAAAAtAAAAFYAAABYAAAAYQAAAIYAAAB0AAAAqgAAAIwAAAB2AAAAQQAAAHgAAACwAAAAtAAAAJAAAACFAAAAXQAAAHoAAABYAAAAqgAAAF4AAACqAAAAWgAAAE4AAABeAAAASQAAALAAAACAAAAAeAAAAFIAAABfAAAAdgAAAHsAAABaAAAAbgAAAGAAAABYAAAAYgAAAG4AAABQAAAAbgAAAG4AAABOAAAAgQAAALUAAAByAAAAkAAAAGUAAABUAAAAmgAAAJQAAACSAAAAeAAAAIgAAACNAAAAbAAAAF4AAAC0AAAAegAAAFUAAACUAAAAeAAAAFsAAAB4AAAAagAAAG4AAACpAAAAdgAAAFwAAABwAAAAjAAAAGkAAACyAAAAbAAAAK0AAABlAAAAeAAAAJAAAACFAAAAngAAAHgAAACBAAAAZgAAAHwAAABaAAAAoQAAAHgAAABRAAAAlgAAAGkAAABPAAAAkgAAAHwAAAB+AAAAeQAAAIgAAABmAAAATQAAAGIAAABUAAAAZgAAAHgAAAB1AAAASAAAAKgAAABeAAAAkQAAAIYAAACUAAAAfwAAAKwAAABaAAAAYAAAAIoAAAB4AAAAfQAAAHsAAABRAAAAqwAAAFsAAABUAAAAcwAAAH0AAAB6AAAAXAAAAFoAAABeAAAAXQAAAIIAAAC0AAAAhgAAAF8AAAC4AAAAkwAAAHsAAAB7AAAAWgAAAKAAAABzAAAAjQAAAKAAAACRAAAAWQAAAF8AAACgAAAArgAAAFwAAACGAAAArAAAAFAAAACWAAAAUAAAAKYAAAB4AAAAXAAAAFUAAACaAAAAXAAAAIwAAABZAAAAhwAAAIwAAABSAAAATwAAAFgAAACLAAAAfAAAAFAAAAB4AAAAUAAAAHUAAAB1AAAAjAAAAGMAAABdAAAAagAAAHwAAABfAAAAYAAAAFwAAAB8AAAASAAAAEcAAACHAAAAXwAAAEcAAAC0AAAAlgAAAL0AAABVAAAAjAAAAFEAAABoAAAAgQAAAF4AAABHAAAAkgAAAGcAAAB8AAAApAAAAIoAAAB+AAAAZwAAAF8AAADIAAAAgQAAAGIAAABrAAAArgAAAFwAAABaAAAAkwAAAI8AAABlAAAAdgAAAGIAAACKAAAAcgAAALQAAACRAAAAcwAAAFIAAACmAAAAXAAAAGwAAABUAAAAXwAAAIcAAABuAAAAWAAAAHcAAAB4AAAAegAAAGIAAACMAAAAdAAAAHwAAABpAAAAdgAAAGwAAABkAAAAjAAAAG0AAABlAAAATgAAAF0AAABXAAAAmQAAAI4AAABgAAAAfQAAAFUAAACMAAAAxAAAAIYAAABnAAAAggAAAGwAAAB7AAAAmAAAAGwAAABIAAAAeQAAAIoAAAC8AAAAbgAAAGkAAAB2AAAAsAAAAJ4AAABzAAAAbgAAAK4AAACCAAAATgAAAGgAAAB5AAAAaQAAAFEAAACqAAAATgAAAH0AAABcAAAAjAAAAGAAAAB2AAAAXAAAAIwAAACuAAAAfwAAAGAAAACWAAAAZAAAAGkAAABoAAAAmgAAAFAAAACWAAAAnAAAAGIAAABcAAAAkAAAAJYAAACKAAAArAAAAE0AAABrAAAAcgAAAHUAAACSAAAAoAAAAHgAAABkAAAAngAAAI4AAACqAAAAVAAAAIsAAACXAAAAgAAAAHYAAAC3AAAAUwAAAHoAAAClAAAAagAAAE0AAABbAAAAlAAAAHIAAAB4AAAAXAAAAHYAAAB7AAAAWQAAAG4AAAB2AAAAWgAAAIIAAACaAAAAaQAAAHMAAABuAAAAfQAAAGYAAAB4AAAAYQAAAIwAAABhAAAAfQAAAFgAAACqAAAAiQAAAJ0AAACCAAAAWgAAALcAAACAAAAAggAAAH4AAAB4AAAAggAAAHoAAACsAAAAZwAAAHoAAACCAAAAaQAAAHgAAACRAAAAYwAAAFgAAAB+AAAAiAAAAHEAAACEAAAAhwAAAH4AAABmAAAAfQAAAJUAAACJAAAAeAAAAGQAAACkAAAAXQAAALQAAABPAAAAkgAAAGcAAACMAAAAXAAAAGYAAAB2AAAAXQAAAJYAAACCAAAAUwAAAGYAAACIAAAAkQAAAIIAAACcAAAAewAAAIQAAAB9AAAAogAAAIoAAAChAAAAgwAAAHoAAABQAAAAbQAAAJ4AAAB+AAAAaAAAAG4AAACCAAAAsQAAAJ4AAAByAAAAkAAAAH0AAACOAAAAeAAAAGAAAACQAAAApgAAAFwAAABhAAAAWgAAAA==\"},\"shape\":[952],\"dtype\":\"int32\",\"order\":\"little\"}]]}}},\"view\":{\"type\":\"object\",\"name\":\"CDSView\",\"id\":\"p1322\",\"attributes\":{\"filter\":{\"type\":\"object\",\"name\":\"AllIndices\",\"id\":\"p1323\"}}},\"glyph\":{\"type\":\"object\",\"name\":\"Scatter\",\"id\":\"p1318\",\"attributes\":{\"tags\":[\"apply_ranges\"],\"x\":{\"type\":\"field\",\"field\":\"streams\"},\"y\":{\"type\":\"field\",\"field\":\"bpm\"},\"size\":{\"type\":\"value\",\"value\":5.477225575051661},\"line_color\":{\"type\":\"value\",\"value\":\"#30a2da\"},\"fill_color\":{\"type\":\"value\",\"value\":\"#30a2da\"},\"hatch_color\":{\"type\":\"value\",\"value\":\"#30a2da\"}}},\"selection_glyph\":{\"type\":\"object\",\"name\":\"Scatter\",\"id\":\"p1324\",\"attributes\":{\"tags\":[\"apply_ranges\"],\"x\":{\"type\":\"field\",\"field\":\"streams\"},\"y\":{\"type\":\"field\",\"field\":\"bpm\"},\"size\":{\"type\":\"value\",\"value\":5.477225575051661},\"angle\":{\"type\":\"value\",\"value\":0.0},\"line_color\":{\"type\":\"value\",\"value\":\"#30a2da\"},\"line_alpha\":{\"type\":\"value\",\"value\":1.0},\"line_width\":{\"type\":\"value\",\"value\":1},\"line_join\":{\"type\":\"value\",\"value\":\"bevel\"},\"line_cap\":{\"type\":\"value\",\"value\":\"butt\"},\"line_dash\":{\"type\":\"value\",\"value\":[]},\"line_dash_offset\":{\"type\":\"value\",\"value\":0},\"fill_color\":{\"type\":\"value\",\"value\":\"#30a2da\"},\"fill_alpha\":{\"type\":\"value\",\"value\":1.0},\"hatch_color\":{\"type\":\"value\",\"value\":\"#30a2da\"},\"hatch_alpha\":{\"type\":\"value\",\"value\":1.0},\"hatch_scale\":{\"type\":\"value\",\"value\":12.0},\"hatch_pattern\":{\"type\":\"value\",\"value\":null},\"hatch_weight\":{\"type\":\"value\",\"value\":1.0},\"marker\":{\"type\":\"value\",\"value\":\"circle\"}}},\"nonselection_glyph\":{\"type\":\"object\",\"name\":\"Scatter\",\"id\":\"p1319\",\"attributes\":{\"tags\":[\"apply_ranges\"],\"x\":{\"type\":\"field\",\"field\":\"streams\"},\"y\":{\"type\":\"field\",\"field\":\"bpm\"},\"size\":{\"type\":\"value\",\"value\":5.477225575051661},\"line_color\":{\"type\":\"value\",\"value\":\"#30a2da\"},\"line_alpha\":{\"type\":\"value\",\"value\":0.1},\"fill_color\":{\"type\":\"value\",\"value\":\"#30a2da\"},\"fill_alpha\":{\"type\":\"value\",\"value\":0.1},\"hatch_color\":{\"type\":\"value\",\"value\":\"#30a2da\"},\"hatch_alpha\":{\"type\":\"value\",\"value\":0.1}}},\"muted_glyph\":{\"type\":\"object\",\"name\":\"Scatter\",\"id\":\"p1320\",\"attributes\":{\"tags\":[\"apply_ranges\"],\"x\":{\"type\":\"field\",\"field\":\"streams\"},\"y\":{\"type\":\"field\",\"field\":\"bpm\"},\"size\":{\"type\":\"value\",\"value\":5.477225575051661},\"line_color\":{\"type\":\"value\",\"value\":\"#30a2da\"},\"line_alpha\":{\"type\":\"value\",\"value\":0.2},\"fill_color\":{\"type\":\"value\",\"value\":\"#30a2da\"},\"fill_alpha\":{\"type\":\"value\",\"value\":0.2},\"hatch_color\":{\"type\":\"value\",\"value\":\"#30a2da\"},\"hatch_alpha\":{\"type\":\"value\",\"value\":0.2}}}}}],\"toolbar\":{\"type\":\"object\",\"name\":\"Toolbar\",\"id\":\"p1290\",\"attributes\":{\"tools\":[{\"type\":\"object\",\"name\":\"WheelZoomTool\",\"id\":\"p1279\",\"attributes\":{\"tags\":[\"hv_created\"],\"renderers\":\"auto\",\"zoom_together\":\"none\"}},{\"type\":\"object\",\"name\":\"HoverTool\",\"id\":\"p1280\",\"attributes\":{\"tags\":[\"hv_created\"],\"renderers\":[{\"id\":\"p1321\"}],\"tooltips\":[[\"streams\",\"@{streams}\"],[\"bpm\",\"@{bpm}\"]]}},{\"type\":\"object\",\"name\":\"SaveTool\",\"id\":\"p1303\"},{\"type\":\"object\",\"name\":\"PanTool\",\"id\":\"p1304\"},{\"type\":\"object\",\"name\":\"BoxZoomTool\",\"id\":\"p1305\",\"attributes\":{\"overlay\":{\"type\":\"object\",\"name\":\"BoxAnnotation\",\"id\":\"p1306\",\"attributes\":{\"syncable\":false,\"level\":\"overlay\",\"visible\":false,\"left\":{\"type\":\"number\",\"value\":\"nan\"},\"right\":{\"type\":\"number\",\"value\":\"nan\"},\"top\":{\"type\":\"number\",\"value\":\"nan\"},\"bottom\":{\"type\":\"number\",\"value\":\"nan\"},\"left_units\":\"canvas\",\"right_units\":\"canvas\",\"top_units\":\"canvas\",\"bottom_units\":\"canvas\",\"line_color\":\"black\",\"line_alpha\":1.0,\"line_width\":2,\"line_dash\":[4,4],\"fill_color\":\"lightgrey\",\"fill_alpha\":0.5}}}},{\"type\":\"object\",\"name\":\"ResetTool\",\"id\":\"p1311\"}],\"active_drag\":{\"id\":\"p1304\"},\"active_scroll\":{\"id\":\"p1279\"}}},\"left\":[{\"type\":\"object\",\"name\":\"LinearAxis\",\"id\":\"p1298\",\"attributes\":{\"ticker\":{\"type\":\"object\",\"name\":\"BasicTicker\",\"id\":\"p1299\",\"attributes\":{\"mantissas\":[1,2,5]}},\"formatter\":{\"type\":\"object\",\"name\":\"BasicTickFormatter\",\"id\":\"p1300\"},\"axis_label\":\"bpm\",\"major_label_policy\":{\"type\":\"object\",\"name\":\"AllLabels\",\"id\":\"p1301\"}}}],\"below\":[{\"type\":\"object\",\"name\":\"LinearAxis\",\"id\":\"p1293\",\"attributes\":{\"ticker\":{\"type\":\"object\",\"name\":\"BasicTicker\",\"id\":\"p1294\",\"attributes\":{\"mantissas\":[1,2,5]}},\"formatter\":{\"type\":\"object\",\"name\":\"BasicTickFormatter\",\"id\":\"p1295\"},\"axis_label\":\"streams\",\"major_label_policy\":{\"type\":\"object\",\"name\":\"AllLabels\",\"id\":\"p1296\"}}}],\"center\":[{\"type\":\"object\",\"name\":\"Grid\",\"id\":\"p1297\",\"attributes\":{\"axis\":{\"id\":\"p1293\"},\"grid_line_color\":null}},{\"type\":\"object\",\"name\":\"Grid\",\"id\":\"p1302\",\"attributes\":{\"dimension\":1,\"axis\":{\"id\":\"p1298\"},\"grid_line_color\":null}}],\"min_border_top\":10,\"min_border_bottom\":10,\"min_border_left\":10,\"min_border_right\":10,\"output_backend\":\"webgl\"}},{\"type\":\"object\",\"name\":\"Spacer\",\"id\":\"p1326\",\"attributes\":{\"name\":\"HSpacer01434\",\"stylesheets\":[\"\\n:host(.pn-loading.pn-arc):before, .pn-loading.pn-arc:before {\\n  background-image: url(\\\"data:image/svg+xml;base64,PHN2ZyB4bWxucz0iaHR0cDovL3d3dy53My5vcmcvMjAwMC9zdmciIHN0eWxlPSJtYXJnaW46IGF1dG87IGJhY2tncm91bmQ6IG5vbmU7IGRpc3BsYXk6IGJsb2NrOyBzaGFwZS1yZW5kZXJpbmc6IGF1dG87IiB2aWV3Qm94PSIwIDAgMTAwIDEwMCIgcHJlc2VydmVBc3BlY3RSYXRpbz0ieE1pZFlNaWQiPiAgPGNpcmNsZSBjeD0iNTAiIGN5PSI1MCIgZmlsbD0ibm9uZSIgc3Ryb2tlPSIjYzNjM2MzIiBzdHJva2Utd2lkdGg9IjEwIiByPSIzNSIgc3Ryb2tlLWRhc2hhcnJheT0iMTY0LjkzMzYxNDMxMzQ2NDE1IDU2Ljk3Nzg3MTQzNzgyMTM4Ij4gICAgPGFuaW1hdGVUcmFuc2Zvcm0gYXR0cmlidXRlTmFtZT0idHJhbnNmb3JtIiB0eXBlPSJyb3RhdGUiIHJlcGVhdENvdW50PSJpbmRlZmluaXRlIiBkdXI9IjFzIiB2YWx1ZXM9IjAgNTAgNTA7MzYwIDUwIDUwIiBrZXlUaW1lcz0iMDsxIj48L2FuaW1hdGVUcmFuc2Zvcm0+ICA8L2NpcmNsZT48L3N2Zz4=\\\");\\n  background-size: auto calc(min(50%, 400px));\\n}\",{\"id\":\"p1272\"},{\"id\":\"p1270\"},{\"id\":\"p1271\"}],\"margin\":0,\"sizing_mode\":\"stretch_width\",\"align\":\"start\"}}]}}],\"defs\":[{\"type\":\"model\",\"name\":\"ReactiveHTML1\"},{\"type\":\"model\",\"name\":\"FlexBox1\",\"properties\":[{\"name\":\"align_content\",\"kind\":\"Any\",\"default\":\"flex-start\"},{\"name\":\"align_items\",\"kind\":\"Any\",\"default\":\"flex-start\"},{\"name\":\"flex_direction\",\"kind\":\"Any\",\"default\":\"row\"},{\"name\":\"flex_wrap\",\"kind\":\"Any\",\"default\":\"wrap\"},{\"name\":\"justify_content\",\"kind\":\"Any\",\"default\":\"flex-start\"}]},{\"type\":\"model\",\"name\":\"FloatPanel1\",\"properties\":[{\"name\":\"config\",\"kind\":\"Any\",\"default\":{\"type\":\"map\"}},{\"name\":\"contained\",\"kind\":\"Any\",\"default\":true},{\"name\":\"position\",\"kind\":\"Any\",\"default\":\"right-top\"},{\"name\":\"offsetx\",\"kind\":\"Any\",\"default\":null},{\"name\":\"offsety\",\"kind\":\"Any\",\"default\":null},{\"name\":\"theme\",\"kind\":\"Any\",\"default\":\"primary\"},{\"name\":\"status\",\"kind\":\"Any\",\"default\":\"normalized\"}]},{\"type\":\"model\",\"name\":\"GridStack1\",\"properties\":[{\"name\":\"mode\",\"kind\":\"Any\",\"default\":\"warn\"},{\"name\":\"ncols\",\"kind\":\"Any\",\"default\":null},{\"name\":\"nrows\",\"kind\":\"Any\",\"default\":null},{\"name\":\"allow_resize\",\"kind\":\"Any\",\"default\":true},{\"name\":\"allow_drag\",\"kind\":\"Any\",\"default\":true},{\"name\":\"state\",\"kind\":\"Any\",\"default\":[]}]},{\"type\":\"model\",\"name\":\"drag1\",\"properties\":[{\"name\":\"slider_width\",\"kind\":\"Any\",\"default\":5},{\"name\":\"slider_color\",\"kind\":\"Any\",\"default\":\"black\"},{\"name\":\"value\",\"kind\":\"Any\",\"default\":50}]},{\"type\":\"model\",\"name\":\"click1\",\"properties\":[{\"name\":\"terminal_output\",\"kind\":\"Any\",\"default\":\"\"},{\"name\":\"debug_name\",\"kind\":\"Any\",\"default\":\"\"},{\"name\":\"clears\",\"kind\":\"Any\",\"default\":0}]},{\"type\":\"model\",\"name\":\"copy_to_clipboard1\",\"properties\":[{\"name\":\"fill\",\"kind\":\"Any\",\"default\":\"none\"},{\"name\":\"value\",\"kind\":\"Any\",\"default\":null}]},{\"type\":\"model\",\"name\":\"FastWrapper1\",\"properties\":[{\"name\":\"object\",\"kind\":\"Any\",\"default\":null},{\"name\":\"style\",\"kind\":\"Any\",\"default\":null}]},{\"type\":\"model\",\"name\":\"NotificationAreaBase1\",\"properties\":[{\"name\":\"js_events\",\"kind\":\"Any\",\"default\":{\"type\":\"map\"}},{\"name\":\"position\",\"kind\":\"Any\",\"default\":\"bottom-right\"},{\"name\":\"_clear\",\"kind\":\"Any\",\"default\":0}]},{\"type\":\"model\",\"name\":\"NotificationArea1\",\"properties\":[{\"name\":\"js_events\",\"kind\":\"Any\",\"default\":{\"type\":\"map\"}},{\"name\":\"notifications\",\"kind\":\"Any\",\"default\":[]},{\"name\":\"position\",\"kind\":\"Any\",\"default\":\"bottom-right\"},{\"name\":\"_clear\",\"kind\":\"Any\",\"default\":0},{\"name\":\"types\",\"kind\":\"Any\",\"default\":[{\"type\":\"map\",\"entries\":[[\"type\",\"warning\"],[\"background\",\"#ffc107\"],[\"icon\",{\"type\":\"map\",\"entries\":[[\"className\",\"fas fa-exclamation-triangle\"],[\"tagName\",\"i\"],[\"color\",\"white\"]]}]]},{\"type\":\"map\",\"entries\":[[\"type\",\"info\"],[\"background\",\"#007bff\"],[\"icon\",{\"type\":\"map\",\"entries\":[[\"className\",\"fas fa-info-circle\"],[\"tagName\",\"i\"],[\"color\",\"white\"]]}]]}]}]},{\"type\":\"model\",\"name\":\"Notification\",\"properties\":[{\"name\":\"background\",\"kind\":\"Any\",\"default\":null},{\"name\":\"duration\",\"kind\":\"Any\",\"default\":3000},{\"name\":\"icon\",\"kind\":\"Any\",\"default\":null},{\"name\":\"message\",\"kind\":\"Any\",\"default\":\"\"},{\"name\":\"notification_type\",\"kind\":\"Any\",\"default\":null},{\"name\":\"_destroyed\",\"kind\":\"Any\",\"default\":false}]},{\"type\":\"model\",\"name\":\"TemplateActions1\",\"properties\":[{\"name\":\"open_modal\",\"kind\":\"Any\",\"default\":0},{\"name\":\"close_modal\",\"kind\":\"Any\",\"default\":0}]},{\"type\":\"model\",\"name\":\"BootstrapTemplateActions1\",\"properties\":[{\"name\":\"open_modal\",\"kind\":\"Any\",\"default\":0},{\"name\":\"close_modal\",\"kind\":\"Any\",\"default\":0}]},{\"type\":\"model\",\"name\":\"MaterialTemplateActions1\",\"properties\":[{\"name\":\"open_modal\",\"kind\":\"Any\",\"default\":0},{\"name\":\"close_modal\",\"kind\":\"Any\",\"default\":0}]}]}};\n",
       "  var render_items = [{\"docid\":\"188ae303-394a-4f9e-9665-e50002c54f1d\",\"roots\":{\"p1269\":\"ad8ce435-bf53-45a4-b88d-a66f75da17fc\"},\"root_ids\":[\"p1269\"]}];\n",
       "  var docs = Object.values(docs_json)\n",
       "  if (!docs) {\n",
       "    return\n",
       "  }\n",
       "  const py_version = docs[0].version.replace('rc', '-rc.').replace('.dev', '-dev.')\n",
       "  function embed_document(root) {\n",
       "    var Bokeh = get_bokeh(root)\n",
       "    Bokeh.embed.embed_items_notebook(docs_json, render_items);\n",
       "    for (const render_item of render_items) {\n",
       "      for (const root_id of render_item.root_ids) {\n",
       "\tconst id_el = document.getElementById(root_id)\n",
       "\tif (id_el.children.length && (id_el.children[0].className === 'bk-root')) {\n",
       "\t  const root_el = id_el.children[0]\n",
       "\t  root_el.id = root_el.id + '-rendered'\n",
       "\t}\n",
       "      }\n",
       "    }\n",
       "  }\n",
       "  function get_bokeh(root) {\n",
       "    if (root.Bokeh === undefined) {\n",
       "      return null\n",
       "    } else if (root.Bokeh.version !== py_version) {\n",
       "      if (root.Bokeh.versions === undefined || !root.Bokeh.versions.has(py_version)) {\n",
       "\treturn null\n",
       "      }\n",
       "      return root.Bokeh.versions.get(py_version);\n",
       "    } else if (root.Bokeh.version === py_version) {\n",
       "      return root.Bokeh\n",
       "    }\n",
       "    return null\n",
       "  }\n",
       "  function is_loaded(root) {\n",
       "    var Bokeh = get_bokeh(root)\n",
       "    return (Bokeh != null && Bokeh.Panel !== undefined)\n",
       "  }\n",
       "  if (is_loaded(root)) {\n",
       "    embed_document(root);\n",
       "  } else {\n",
       "    var attempts = 0;\n",
       "    var timer = setInterval(function(root) {\n",
       "      if (is_loaded(root)) {\n",
       "        clearInterval(timer);\n",
       "        embed_document(root);\n",
       "      } else if (document.readyState == \"complete\") {\n",
       "        attempts++;\n",
       "        if (attempts > 200) {\n",
       "          clearInterval(timer);\n",
       "\t  var Bokeh = get_bokeh(root)\n",
       "\t  if (Bokeh == null || Bokeh.Panel == null) {\n",
       "            console.warn(\"Panel: ERROR: Unable to run Panel code because Bokeh or Panel library is missing\");\n",
       "\t  } else {\n",
       "\t    console.warn(\"Panel: WARNING: Attempting to render but not all required libraries could be resolved.\")\n",
       "\t    embed_document(root)\n",
       "\t  }\n",
       "        }\n",
       "      }\n",
       "    }, 25, root)\n",
       "  }\n",
       "})(window);</script>"
      ],
      "text/plain": [
       ":Scatter   [streams]   (bpm)"
      ]
     },
     "execution_count": 48,
     "metadata": {
      "application/vnd.holoviews_exec.v0+json": {
       "id": "p1269"
      }
     },
     "output_type": "execute_result"
    }
   ],
   "source": [
    "streams_plot = new_data.hvplot.scatter(\n",
    "    x=\"streams\",\n",
    "    y=\"bpm\",\n",
    "    title=\"Streams - BPM\"\n",
    ")\n",
    "streams_plot"
   ]
  },
  {
   "cell_type": "code",
   "execution_count": 25,
   "metadata": {},
   "outputs": [
    {
     "data": {
      "text/plain": [
       "array([[141381703],\n",
       "       [133716286],\n",
       "       [140003974],\n",
       "       [800840817],\n",
       "       [303236322]])"
      ]
     },
     "execution_count": 25,
     "metadata": {},
     "output_type": "execute_result"
    }
   ],
   "source": [
    "# Create the X set by using the `reshape` function to format the ads data as a single column array.\n",
    "X = new_data[\"streams\"].values.reshape(-1, 1)\n",
    "\n",
    "# Display sample data\n",
    "X[:5]"
   ]
  },
  {
   "cell_type": "code",
   "execution_count": 26,
   "metadata": {},
   "outputs": [],
   "source": [
    "# Create an array for the dependent variable y with the sales data\n",
    "y = new_data[\"bpm\"]"
   ]
  },
  {
   "cell_type": "code",
   "execution_count": 27,
   "metadata": {},
   "outputs": [],
   "source": [
    "# Create a model with scikit-learn\n",
    "model = LinearRegression()"
   ]
  },
  {
   "cell_type": "code",
   "execution_count": 28,
   "metadata": {},
   "outputs": [
    {
     "data": {
      "text/html": [
       "<style>#sk-container-id-1 {color: black;}#sk-container-id-1 pre{padding: 0;}#sk-container-id-1 div.sk-toggleable {background-color: white;}#sk-container-id-1 label.sk-toggleable__label {cursor: pointer;display: block;width: 100%;margin-bottom: 0;padding: 0.3em;box-sizing: border-box;text-align: center;}#sk-container-id-1 label.sk-toggleable__label-arrow:before {content: \"▸\";float: left;margin-right: 0.25em;color: #696969;}#sk-container-id-1 label.sk-toggleable__label-arrow:hover:before {color: black;}#sk-container-id-1 div.sk-estimator:hover label.sk-toggleable__label-arrow:before {color: black;}#sk-container-id-1 div.sk-toggleable__content {max-height: 0;max-width: 0;overflow: hidden;text-align: left;background-color: #f0f8ff;}#sk-container-id-1 div.sk-toggleable__content pre {margin: 0.2em;color: black;border-radius: 0.25em;background-color: #f0f8ff;}#sk-container-id-1 input.sk-toggleable__control:checked~div.sk-toggleable__content {max-height: 200px;max-width: 100%;overflow: auto;}#sk-container-id-1 input.sk-toggleable__control:checked~label.sk-toggleable__label-arrow:before {content: \"▾\";}#sk-container-id-1 div.sk-estimator input.sk-toggleable__control:checked~label.sk-toggleable__label {background-color: #d4ebff;}#sk-container-id-1 div.sk-label input.sk-toggleable__control:checked~label.sk-toggleable__label {background-color: #d4ebff;}#sk-container-id-1 input.sk-hidden--visually {border: 0;clip: rect(1px 1px 1px 1px);clip: rect(1px, 1px, 1px, 1px);height: 1px;margin: -1px;overflow: hidden;padding: 0;position: absolute;width: 1px;}#sk-container-id-1 div.sk-estimator {font-family: monospace;background-color: #f0f8ff;border: 1px dotted black;border-radius: 0.25em;box-sizing: border-box;margin-bottom: 0.5em;}#sk-container-id-1 div.sk-estimator:hover {background-color: #d4ebff;}#sk-container-id-1 div.sk-parallel-item::after {content: \"\";width: 100%;border-bottom: 1px solid gray;flex-grow: 1;}#sk-container-id-1 div.sk-label:hover label.sk-toggleable__label {background-color: #d4ebff;}#sk-container-id-1 div.sk-serial::before {content: \"\";position: absolute;border-left: 1px solid gray;box-sizing: border-box;top: 0;bottom: 0;left: 50%;z-index: 0;}#sk-container-id-1 div.sk-serial {display: flex;flex-direction: column;align-items: center;background-color: white;padding-right: 0.2em;padding-left: 0.2em;position: relative;}#sk-container-id-1 div.sk-item {position: relative;z-index: 1;}#sk-container-id-1 div.sk-parallel {display: flex;align-items: stretch;justify-content: center;background-color: white;position: relative;}#sk-container-id-1 div.sk-item::before, #sk-container-id-1 div.sk-parallel-item::before {content: \"\";position: absolute;border-left: 1px solid gray;box-sizing: border-box;top: 0;bottom: 0;left: 50%;z-index: -1;}#sk-container-id-1 div.sk-parallel-item {display: flex;flex-direction: column;z-index: 1;position: relative;background-color: white;}#sk-container-id-1 div.sk-parallel-item:first-child::after {align-self: flex-end;width: 50%;}#sk-container-id-1 div.sk-parallel-item:last-child::after {align-self: flex-start;width: 50%;}#sk-container-id-1 div.sk-parallel-item:only-child::after {width: 0;}#sk-container-id-1 div.sk-dashed-wrapped {border: 1px dashed gray;margin: 0 0.4em 0.5em 0.4em;box-sizing: border-box;padding-bottom: 0.4em;background-color: white;}#sk-container-id-1 div.sk-label label {font-family: monospace;font-weight: bold;display: inline-block;line-height: 1.2em;}#sk-container-id-1 div.sk-label-container {text-align: center;}#sk-container-id-1 div.sk-container {/* jupyter's `normalize.less` sets `[hidden] { display: none; }` but bootstrap.min.css set `[hidden] { display: none !important; }` so we also need the `!important` here to be able to override the default hidden behavior on the sphinx rendered scikit-learn.org. See: https://github.com/scikit-learn/scikit-learn/issues/21755 */display: inline-block !important;position: relative;}#sk-container-id-1 div.sk-text-repr-fallback {display: none;}</style><div id=\"sk-container-id-1\" class=\"sk-top-container\"><div class=\"sk-text-repr-fallback\"><pre>LinearRegression()</pre><b>In a Jupyter environment, please rerun this cell to show the HTML representation or trust the notebook. <br />On GitHub, the HTML representation is unable to render, please try loading this page with nbviewer.org.</b></div><div class=\"sk-container\" hidden><div class=\"sk-item\"><div class=\"sk-estimator sk-toggleable\"><input class=\"sk-toggleable__control sk-hidden--visually\" id=\"sk-estimator-id-1\" type=\"checkbox\" checked><label for=\"sk-estimator-id-1\" class=\"sk-toggleable__label sk-toggleable__label-arrow\">LinearRegression</label><div class=\"sk-toggleable__content\"><pre>LinearRegression()</pre></div></div></div></div></div>"
      ],
      "text/plain": [
       "LinearRegression()"
      ]
     },
     "execution_count": 28,
     "metadata": {},
     "output_type": "execute_result"
    }
   ],
   "source": [
    "# Fit the data into the model\n",
    "model.fit(X, y)"
   ]
  },
  {
   "cell_type": "code",
   "execution_count": 29,
   "metadata": {},
   "outputs": [
    {
     "name": "stdout",
     "output_type": "stream",
     "text": [
      "Model's slope: [-1.20720242e-10]\n"
     ]
    }
   ],
   "source": [
    "# Display the slope\n",
    "print(f\"Model's slope: {model.coef_}\")"
   ]
  },
  {
   "cell_type": "code",
   "execution_count": 30,
   "metadata": {},
   "outputs": [
    {
     "name": "stdout",
     "output_type": "stream",
     "text": [
      "Model's y-intercept: 122.61563822310843\n"
     ]
    }
   ],
   "source": [
    "# Display the y-intercept\n",
    "print(f\"Model's y-intercept: {model.intercept_}\")"
   ]
  },
  {
   "cell_type": "code",
   "execution_count": 31,
   "metadata": {},
   "outputs": [
    {
     "name": "stdout",
     "output_type": "stream",
     "text": [
      "Model's formula: y = 122.61563822310843 + -1.207202423444707e-10X\n"
     ]
    }
   ],
   "source": [
    "# Display the model's best fit line formula\n",
    "print(f\"Model's formula: y = {model.intercept_} + {model.coef_[0]}X\")"
   ]
  },
  {
   "cell_type": "code",
   "execution_count": 32,
   "metadata": {},
   "outputs": [],
   "source": [
    "# Make predictions using the X set\n",
    "predicted_y_values = model.predict(X)"
   ]
  },
  {
   "cell_type": "code",
   "execution_count": 33,
   "metadata": {},
   "outputs": [
    {
     "data": {
      "text/html": [
       "<div>\n",
       "<style scoped>\n",
       "    .dataframe tbody tr th:only-of-type {\n",
       "        vertical-align: middle;\n",
       "    }\n",
       "\n",
       "    .dataframe tbody tr th {\n",
       "        vertical-align: top;\n",
       "    }\n",
       "\n",
       "    .dataframe thead th {\n",
       "        text-align: right;\n",
       "    }\n",
       "</style>\n",
       "<table border=\"1\" class=\"dataframe\">\n",
       "  <thead>\n",
       "    <tr style=\"text-align: right;\">\n",
       "      <th></th>\n",
       "      <th>track_name</th>\n",
       "      <th>streams</th>\n",
       "      <th>bpm</th>\n",
       "      <th>streams_predicted</th>\n",
       "    </tr>\n",
       "  </thead>\n",
       "  <tbody>\n",
       "    <tr>\n",
       "      <th>0</th>\n",
       "      <td>Seven (feat. Latto) (Explicit Ver.)</td>\n",
       "      <td>141381703</td>\n",
       "      <td>125</td>\n",
       "      <td>122.598571</td>\n",
       "    </tr>\n",
       "    <tr>\n",
       "      <th>1</th>\n",
       "      <td>LALA</td>\n",
       "      <td>133716286</td>\n",
       "      <td>92</td>\n",
       "      <td>122.599496</td>\n",
       "    </tr>\n",
       "    <tr>\n",
       "      <th>2</th>\n",
       "      <td>vampire</td>\n",
       "      <td>140003974</td>\n",
       "      <td>138</td>\n",
       "      <td>122.598737</td>\n",
       "    </tr>\n",
       "    <tr>\n",
       "      <th>3</th>\n",
       "      <td>Cruel Summer</td>\n",
       "      <td>800840817</td>\n",
       "      <td>170</td>\n",
       "      <td>122.518961</td>\n",
       "    </tr>\n",
       "    <tr>\n",
       "      <th>4</th>\n",
       "      <td>WHERE SHE GOES</td>\n",
       "      <td>303236322</td>\n",
       "      <td>144</td>\n",
       "      <td>122.579031</td>\n",
       "    </tr>\n",
       "  </tbody>\n",
       "</table>\n",
       "</div>"
      ],
      "text/plain": [
       "                            track_name    streams  bpm  streams_predicted\n",
       "0  Seven (feat. Latto) (Explicit Ver.)  141381703  125         122.598571\n",
       "1                                 LALA  133716286   92         122.599496\n",
       "2                              vampire  140003974  138         122.598737\n",
       "3                         Cruel Summer  800840817  170         122.518961\n",
       "4                       WHERE SHE GOES  303236322  144         122.579031"
      ]
     },
     "execution_count": 33,
     "metadata": {},
     "output_type": "execute_result"
    }
   ],
   "source": [
    "# Create a copy of the original data\n",
    "df_streams_predicted = new_data.copy()\n",
    "\n",
    "# Add a column with the predicted sales values\n",
    "df_streams_predicted[\"streams_predicted\"] = predicted_y_values\n",
    "\n",
    "# Display sample data\n",
    "df_streams_predicted.head()"
   ]
  },
  {
   "cell_type": "code",
   "execution_count": 35,
   "metadata": {},
   "outputs": [
    {
     "data": {},
     "metadata": {},
     "output_type": "display_data"
    },
    {
     "data": {
      "application/vnd.holoviews_exec.v0+json": "",
      "text/html": [
       "<div id='p1128'>\n",
       "  <div id=\"b98f0da0-7667-4b7e-b88a-c4636a50a167\" data-root-id=\"p1128\" style=\"display: contents;\"></div>\n",
       "</div>\n",
       "<script type=\"application/javascript\">(function(root) {\n",
       "  var docs_json = {\"8c1f1ba0-2312-41c1-967a-9aeb90ae35d2\":{\"version\":\"3.3.4\",\"title\":\"Bokeh Application\",\"roots\":[{\"type\":\"object\",\"name\":\"Row\",\"id\":\"p1128\",\"attributes\":{\"name\":\"Row01263\",\"tags\":[\"embedded\"],\"stylesheets\":[\"\\n:host(.pn-loading.pn-arc):before, .pn-loading.pn-arc:before {\\n  background-image: url(\\\"data:image/svg+xml;base64,PHN2ZyB4bWxucz0iaHR0cDovL3d3dy53My5vcmcvMjAwMC9zdmciIHN0eWxlPSJtYXJnaW46IGF1dG87IGJhY2tncm91bmQ6IG5vbmU7IGRpc3BsYXk6IGJsb2NrOyBzaGFwZS1yZW5kZXJpbmc6IGF1dG87IiB2aWV3Qm94PSIwIDAgMTAwIDEwMCIgcHJlc2VydmVBc3BlY3RSYXRpbz0ieE1pZFlNaWQiPiAgPGNpcmNsZSBjeD0iNTAiIGN5PSI1MCIgZmlsbD0ibm9uZSIgc3Ryb2tlPSIjYzNjM2MzIiBzdHJva2Utd2lkdGg9IjEwIiByPSIzNSIgc3Ryb2tlLWRhc2hhcnJheT0iMTY0LjkzMzYxNDMxMzQ2NDE1IDU2Ljk3Nzg3MTQzNzgyMTM4Ij4gICAgPGFuaW1hdGVUcmFuc2Zvcm0gYXR0cmlidXRlTmFtZT0idHJhbnNmb3JtIiB0eXBlPSJyb3RhdGUiIHJlcGVhdENvdW50PSJpbmRlZmluaXRlIiBkdXI9IjFzIiB2YWx1ZXM9IjAgNTAgNTA7MzYwIDUwIDUwIiBrZXlUaW1lcz0iMDsxIj48L2FuaW1hdGVUcmFuc2Zvcm0+ICA8L2NpcmNsZT48L3N2Zz4=\\\");\\n  background-size: auto calc(min(50%, 400px));\\n}\",{\"type\":\"object\",\"name\":\"ImportedStyleSheet\",\"id\":\"p1131\",\"attributes\":{\"url\":\"https://cdn.holoviz.org/panel/1.3.8/dist/css/loading.css\"}},{\"type\":\"object\",\"name\":\"ImportedStyleSheet\",\"id\":\"p1187\",\"attributes\":{\"url\":\"https://cdn.holoviz.org/panel/1.3.8/dist/css/listpanel.css\"}},{\"type\":\"object\",\"name\":\"ImportedStyleSheet\",\"id\":\"p1129\",\"attributes\":{\"url\":\"https://cdn.holoviz.org/panel/1.3.8/dist/bundled/theme/default.css\"}},{\"type\":\"object\",\"name\":\"ImportedStyleSheet\",\"id\":\"p1130\",\"attributes\":{\"url\":\"https://cdn.holoviz.org/panel/1.3.8/dist/bundled/theme/native.css\"}}],\"min_width\":700,\"margin\":0,\"sizing_mode\":\"stretch_width\",\"align\":\"start\",\"children\":[{\"type\":\"object\",\"name\":\"Spacer\",\"id\":\"p1132\",\"attributes\":{\"name\":\"HSpacer01270\",\"stylesheets\":[\"\\n:host(.pn-loading.pn-arc):before, .pn-loading.pn-arc:before {\\n  background-image: url(\\\"data:image/svg+xml;base64,PHN2ZyB4bWxucz0iaHR0cDovL3d3dy53My5vcmcvMjAwMC9zdmciIHN0eWxlPSJtYXJnaW46IGF1dG87IGJhY2tncm91bmQ6IG5vbmU7IGRpc3BsYXk6IGJsb2NrOyBzaGFwZS1yZW5kZXJpbmc6IGF1dG87IiB2aWV3Qm94PSIwIDAgMTAwIDEwMCIgcHJlc2VydmVBc3BlY3RSYXRpbz0ieE1pZFlNaWQiPiAgPGNpcmNsZSBjeD0iNTAiIGN5PSI1MCIgZmlsbD0ibm9uZSIgc3Ryb2tlPSIjYzNjM2MzIiBzdHJva2Utd2lkdGg9IjEwIiByPSIzNSIgc3Ryb2tlLWRhc2hhcnJheT0iMTY0LjkzMzYxNDMxMzQ2NDE1IDU2Ljk3Nzg3MTQzNzgyMTM4Ij4gICAgPGFuaW1hdGVUcmFuc2Zvcm0gYXR0cmlidXRlTmFtZT0idHJhbnNmb3JtIiB0eXBlPSJyb3RhdGUiIHJlcGVhdENvdW50PSJpbmRlZmluaXRlIiBkdXI9IjFzIiB2YWx1ZXM9IjAgNTAgNTA7MzYwIDUwIDUwIiBrZXlUaW1lcz0iMDsxIj48L2FuaW1hdGVUcmFuc2Zvcm0+ICA8L2NpcmNsZT48L3N2Zz4=\\\");\\n  background-size: auto calc(min(50%, 400px));\\n}\",{\"id\":\"p1131\"},{\"id\":\"p1129\"},{\"id\":\"p1130\"}],\"margin\":0,\"sizing_mode\":\"stretch_width\",\"align\":\"start\"}},{\"type\":\"object\",\"name\":\"Figure\",\"id\":\"p1140\",\"attributes\":{\"width\":700,\"height\":300,\"margin\":[5,10],\"sizing_mode\":\"fixed\",\"align\":\"start\",\"x_range\":{\"type\":\"object\",\"name\":\"Range1d\",\"id\":\"p1133\",\"attributes\":{\"tags\":[[[\"streams\",\"streams\",null]],[]],\"start\":2762.0,\"end\":3703895074.0,\"reset_start\":2762.0,\"reset_end\":3703895074.0}},\"y_range\":{\"type\":\"object\",\"name\":\"Range1d\",\"id\":\"p1134\",\"attributes\":{\"tags\":[[[\"bpm\",\"bpm\",null]],{\"type\":\"map\",\"entries\":[[\"invert_yaxis\",false],[\"autorange\",false]]}],\"start\":50.9,\"end\":220.1,\"reset_start\":50.9,\"reset_end\":220.1}},\"x_scale\":{\"type\":\"object\",\"name\":\"LinearScale\",\"id\":\"p1150\"},\"y_scale\":{\"type\":\"object\",\"name\":\"LinearScale\",\"id\":\"p1151\"},\"title\":{\"type\":\"object\",\"name\":\"Title\",\"id\":\"p1143\",\"attributes\":{\"text_color\":\"black\",\"text_font_size\":\"12pt\"}},\"renderers\":[{\"type\":\"object\",\"name\":\"GlyphRenderer\",\"id\":\"p1180\",\"attributes\":{\"data_source\":{\"type\":\"object\",\"name\":\"ColumnDataSource\",\"id\":\"p1171\",\"attributes\":{\"selected\":{\"type\":\"object\",\"name\":\"Selection\",\"id\":\"p1172\",\"attributes\":{\"indices\":[],\"line_indices\":[]}},\"selection_policy\":{\"type\":\"object\",\"name\":\"UnionRenderers\",\"id\":\"p1173\"},\"data\":{\"type\":\"map\",\"entries\":[[\"streams\",{\"type\":\"ndarray\",\"array\":[141381703,133716286,140003974,800840817,303236322,183706234,725980112,58149378,95217315,553634067,505671438,58255150,1316855716,387570742,2513188493,1163093654,496795686,30546883,335222234,363369738,86444842,52135248,1297026226,200647221,115364561,78300654,899183384,61245289,429829812,127408954,22581161,52294266,843957510,999748277,618990393,123122413,188933502,1355959075,786181836,176553476,354495408,2808096550,1109433169,1047101291,65156199,570515054,1085685420,1647990401,2565529693,518745108,107753850,177740666,153372011,57876440,1813673666,3703895074,256483385,1214083358,16011326,812019557,111947664,156338624,720434240,357925728,674072710,1755214421,404562836,373199958,14780425,39578178,54266102,2557975762,751134527,2282771485,1356565093,1592909789,635412045,1230675890,585695368,43857627,2009094673,600976848,39709092,39228929,2665343922,223633238,2887241814,1440757818,165484133,58054811,157058870,95131998,250305248,685032533,38411956,144565150,127567540,399686758,983637508,118482347,882831184,286400165,172825906,1241559043,29562220,77309611,1605224506,1116995633,838079900,1163620694,1093605526,179659294,39058561,36912123,1205951614,1791000570,201660859,248088961,90839753,607123776,55842345,211050784,342897938,2762,330346424,601863821,1953533826,2322580122,2355719893,66902503,96273746,430977451,284819874,721975598,1217120710,109276132,276259178,54225632,2559529074,681583126,2594040133,81102253,11956641,1687664027,11599388,611700552,1133865788,1089402494,411747614,255932395,31873544,95053634,1279434863,233801632,1481349984,142095275,618885532,2011464183,1167330737,929964809,436027885,657723613,2713922350,621660989,1591223784,950906471,1593270737,1410088830,1235005533,1661187319,1374581173,94186466,1788326445,1840364617,143573775,684675814,1113838873,1267333350,726307468,3562543890,1131090940,307370144,1271293243,265882712,841749534,47956378,806397070,2132335812,1641426668,2135158446,367316268,350381515,1264310836,30343206,405136812,1145727611,540654286,57312735,397582059,1479115056,86773632,133753727,123124076,463564958,64533040,65496046,68616963,161460990,70106975,113509496,89933133,71007139,43522589,232896922,37126685,195576623,532336353,538115192,46142772,401036314,127026613,345031710,288101651,60350538,335074782,76767396,46065667,459276435,39666245,138517666,822633917,595900742,51985779,57945987,115010040,175097833,57089066,488386797,32761689,1047480053,153454328,217672943,457184829,939844851,726434358,573633020,1406111294,71573339,24975653,145458418,1424589568,231332117,415932686,988515741,50847624,39893489,92035115,118810253,77233241,206399629,117747907,266624541,293186992,139681964,123132751,103762518,162887075,91221625,190490915,96180277,185240616,885093467,104992946,147290338,1302184087,158950978,76910644,137123880,782369383,502574952,207033255,404887295,381161027,466231982,357580552,61105704,198275403,168448603,705469769,34502215,482175240,304118600,1449799467,173627354,90025258,652704649,1829992958,655466831,146409671,95816024,117206995,100409613,80758350,325592432,58473276,52722996,191945597,77377503,743693613,267789608,1221813483,449701773,67070410,116334601,433356509,165584767,367814306,477033549,156214700,448843705,1357608774,294352144,972164968,920045682,2420461338,1947371785,244658767,68216992,223582566,471819764,272377463,1361425037,149778242,116599790,148469433,497225336,88791109,125917280,105062254,95623148,144584800,298063749,166570053,83021468,139836056,303216294,221409663,58890931,81419389,156777415,284908316,93438910,363472647,372476382,380726517,56533272,175399345,203221468,1624165576,134294498,70069745,609293408,671365962,362361576,93587665,1223481149,1022258230,263453310,1435127549,236857112,147538971,698086140,723894473,34450974,403097450,309483971,319566866,909001996,1061966512,32526947,124988687,103787664,134255790,301051721,156338624,152850295,309653982,297328960,332506354,480507035,1065580332,122763672,445763624,1365184,184308753,789753877,323358833,606361689,120972253,338564981,1606986953,1301799902,140187018,1897517891,107642809,551305895,556585270,2303033973,646886885,222612678,1814349763,872137015,571386359,304079786,174006928,284785823,163284000,246390068,482257456,168684524,78489819,195516622,1260594497,428685680,1024858327,838586769,199386237,972509632,213438580,1555511105,210038833,227918678,826623384,1802514301,1329090101,181831132,462791599,348647203,366599607,90598517,1479264469,1449779435,1159176109,769213520,741301563,807561936,834129063,663832097,446390129,690104769,485285717,520034544,476244795,629173063,404664135,98709329,110849052,460492795,94005786,395591396,389771964,403939487,481697415,110073250,88092256,351636786,473248298,73981293,155653938,395591396,429504768,242767149,65362788,67540165,62019074,135723538,295998468,261116938,136689549,135611421,356709897,110649992,301869854,127027715,57144458,56870689,323437194,317726339,116144341,328207708,608228647,180577478,809306935,49262961,614555082,245350949,178660459,51641685,78139948,322336177,1007612429,326792833,391251368,349585590,339659802,674772936,432719968,1309887447,119238316,116903579,888046992,200660871,130655803,1887039593,88103848,101114984,1575467011,91656026,1042568408,1735441776,726837877,53933526,267758538,74601456,920797189,539595276,1367810478,578207856,775542072,863625566,656013912,1056760045,611994237,1230855859,582981380,1858144199,240684449,583687007,63803529,466214729,236940480,41924466,225259194,393230256,287201015,599770206,342779426,673801126,1168642797,540539717,383550148,530511203,37307967,510876816,1445941661,1763363713,374191487,108809090,436695353,421040617,501541661,354065229,1143647827,311395144,672656250,1256880657,1692897992,245095641,686734357,261414174,610045621,1115880852,594482982,566954746,374706940,184937148,31959571,167076418,824420218,363467642,1127468248,60680939,247737946,1699402402,154797871,198883004,124407432,850608354,376333030,516784627,1608045237,506778838,1472799873,513643924,261286503,783706581,422691058,1062345656,1252563873,851070493,263894529,345903614,951637566,956865266,427486004,156658366,624515457,777765388,412795151,1138474110,355219175,290228626,1062956628,1180094974,1456081449,432702334,489945871,465959382,1223481149,2864791672,2288695111,720825549,2086124197,1690192927,991336132,593917618,200972675,71014967,560222750,1806617704,77337771,528544703,865640097,2159346687,211372494,651732901,608334048,863756573,797402345,1695712020,1759567999,223319934,54937991,226897599,258316038,596152090,177129919,716591492,1210599487,246376690,496311364,146789379,843309044,500340342,107255472,135079152,822239726,1202722675,343197054,240769997,426204830,421135627,554875730,467727006,327498031,185408548,245400167,579395142,675039469,252871192,231996128,1929770265,918915401,1180896317,498960285,685071800,258714692,143139338,209768491,64714573,50746620,154119539,181328253,370068639,2280566092,563902868,317622165,291709698,203680270,81350745,282883169,64787943,2484812918,461437791,1439191367,759208783,368646862,299634472,756907987,682475162,546191065,229473310,202677468,121913181,208166039,527033089,94616487,394030335,193443895,299648208,182978249,319757142,109091573,153240879,346127840,312622938,2197010679,1200808494,797196073,1970673297,665765558,263779030,339473453,2204080728,2591224264,135444283,1457139296,236872197,694525298,240661097,421365166,349746291,255120451,190981339,924193303,305771063,273005485,89566512,677389855,75476209,408843328,187772591,178512385,101780047,118381354,146363130,126443991,157990698,176290831,1023187129,106933107,139193812,212234990,1714490998,197643795,807015863,933815613,499710590,120847157,53909146,2236667932,2123309722,301242089,723894473,237351106,461558540,417230415,156898322,127309180,313113297,173702135,271666301,305650299,123216717,479655659,126191104,344055883,338422004,68895644,86176890,403231558,319546754,61739839,283359161,76831876,283332261,307752576,279737940,212351890,1304313953,150500965,246127838,582863434,58687425,212109195,382199619,41210087,231657891,53729194,244741137,42485571,37778188,254218729,53603447,160035717,164163229,37091576,284249832,33381454,184622518,300983101,121077868,106919680,136996305,65719930,229497852,185550869,54682594,240580042,1284942608,71423324,244891912,132171975,184706613,184826429,302006641,330881149,334733572,366214458,114546317,290833204,448500832,136676504,190625045,79095270,273194684,333146475,194902696,311482393,195918494,248511839,233671263,199587884,91781263,383835984,236060709,189236868,160845341,588955257,238350348,187703102,295307001,138334433,445590495,286739476,1122364376,157136970,137070925,183273246,184807630,164856284,704171068,354614964,279717388,195628667,221752937,263280370,213505179,130419412,155795783,1553497987,293466523,711366595,191448892,85924992,176103902,121189256,131746175,244790012,129314708,331511413,219196651,170732845,273914335,179061440,185236961,171788484,387080183,264717480,244928911,97610446,287278853,887906111,123473120,295152154,323455692,240918092,191873381,284216603,239411309,265548837,703301727,244585109,189476119,277132266,278920007,222410722,185392587,202452860,1608164312,624101957,148461629,47093942,380319238,209106362,53987404,115331792,225093344,84697729,159240673,170709584,154356956,723043854,247689123,176474912,235549288,140430339,85559365,146223492,187701588,154863153,191333656,253650850,223064273,170413877,218320587,141720999,187339835,198365537,186104310,177503916,71095708,112436403,203436468,93367537,106249219,181382590,91473363,121871870,73513683,133895612,96007391],\"shape\":[952],\"dtype\":\"object\",\"order\":\"little\"}],[\"bpm\",{\"type\":\"ndarray\",\"array\":{\"type\":\"bytes\",\"data\":\"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\"},\"shape\":[952],\"dtype\":\"int32\",\"order\":\"little\"}]]}}},\"view\":{\"type\":\"object\",\"name\":\"CDSView\",\"id\":\"p1181\",\"attributes\":{\"filter\":{\"type\":\"object\",\"name\":\"AllIndices\",\"id\":\"p1182\"}}},\"glyph\":{\"type\":\"object\",\"name\":\"Line\",\"id\":\"p1177\",\"attributes\":{\"tags\":[\"apply_ranges\"],\"x\":{\"type\":\"field\",\"field\":\"streams\"},\"y\":{\"type\":\"field\",\"field\":\"bpm\"},\"line_color\":\"red\",\"line_width\":2}},\"selection_glyph\":{\"type\":\"object\",\"name\":\"Line\",\"id\":\"p1183\",\"attributes\":{\"tags\":[\"apply_ranges\"],\"x\":{\"type\":\"field\",\"field\":\"streams\"},\"y\":{\"type\":\"field\",\"field\":\"bpm\"},\"line_color\":\"red\",\"line_width\":2}},\"nonselection_glyph\":{\"type\":\"object\",\"name\":\"Line\",\"id\":\"p1178\",\"attributes\":{\"tags\":[\"apply_ranges\"],\"x\":{\"type\":\"field\",\"field\":\"streams\"},\"y\":{\"type\":\"field\",\"field\":\"bpm\"},\"line_color\":\"red\",\"line_alpha\":0.1,\"line_width\":2}},\"muted_glyph\":{\"type\":\"object\",\"name\":\"Line\",\"id\":\"p1179\",\"attributes\":{\"tags\":[\"apply_ranges\"],\"x\":{\"type\":\"field\",\"field\":\"streams\"},\"y\":{\"type\":\"field\",\"field\":\"bpm\"},\"line_color\":\"red\",\"line_alpha\":0.2,\"line_width\":2}}}}],\"toolbar\":{\"type\":\"object\",\"name\":\"Toolbar\",\"id\":\"p1149\",\"attributes\":{\"tools\":[{\"type\":\"object\",\"name\":\"WheelZoomTool\",\"id\":\"p1138\",\"attributes\":{\"tags\":[\"hv_created\"],\"renderers\":\"auto\",\"zoom_together\":\"none\"}},{\"type\":\"object\",\"name\":\"HoverTool\",\"id\":\"p1139\",\"attributes\":{\"tags\":[\"hv_created\"],\"renderers\":[{\"id\":\"p1180\"}],\"tooltips\":[[\"streams\",\"@{streams}\"],[\"bpm\",\"@{bpm}\"]]}},{\"type\":\"object\",\"name\":\"SaveTool\",\"id\":\"p1162\"},{\"type\":\"object\",\"name\":\"PanTool\",\"id\":\"p1163\"},{\"type\":\"object\",\"name\":\"BoxZoomTool\",\"id\":\"p1164\",\"attributes\":{\"overlay\":{\"type\":\"object\",\"name\":\"BoxAnnotation\",\"id\":\"p1165\",\"attributes\":{\"syncable\":false,\"level\":\"overlay\",\"visible\":false,\"left\":{\"type\":\"number\",\"value\":\"nan\"},\"right\":{\"type\":\"number\",\"value\":\"nan\"},\"top\":{\"type\":\"number\",\"value\":\"nan\"},\"bottom\":{\"type\":\"number\",\"value\":\"nan\"},\"left_units\":\"canvas\",\"right_units\":\"canvas\",\"top_units\":\"canvas\",\"bottom_units\":\"canvas\",\"line_color\":\"black\",\"line_alpha\":1.0,\"line_width\":2,\"line_dash\":[4,4],\"fill_color\":\"lightgrey\",\"fill_alpha\":0.5}}}},{\"type\":\"object\",\"name\":\"ResetTool\",\"id\":\"p1170\"}],\"active_drag\":{\"id\":\"p1163\"},\"active_scroll\":{\"id\":\"p1138\"}}},\"left\":[{\"type\":\"object\",\"name\":\"LinearAxis\",\"id\":\"p1157\",\"attributes\":{\"ticker\":{\"type\":\"object\",\"name\":\"BasicTicker\",\"id\":\"p1158\",\"attributes\":{\"mantissas\":[1,2,5]}},\"formatter\":{\"type\":\"object\",\"name\":\"BasicTickFormatter\",\"id\":\"p1159\"},\"axis_label\":\"bpm\",\"major_label_policy\":{\"type\":\"object\",\"name\":\"AllLabels\",\"id\":\"p1160\"}}}],\"below\":[{\"type\":\"object\",\"name\":\"LinearAxis\",\"id\":\"p1152\",\"attributes\":{\"ticker\":{\"type\":\"object\",\"name\":\"BasicTicker\",\"id\":\"p1153\",\"attributes\":{\"mantissas\":[1,2,5]}},\"formatter\":{\"type\":\"object\",\"name\":\"BasicTickFormatter\",\"id\":\"p1154\"},\"axis_label\":\"streams\",\"major_label_policy\":{\"type\":\"object\",\"name\":\"AllLabels\",\"id\":\"p1155\"}}}],\"center\":[{\"type\":\"object\",\"name\":\"Grid\",\"id\":\"p1156\",\"attributes\":{\"axis\":{\"id\":\"p1152\"},\"grid_line_color\":null}},{\"type\":\"object\",\"name\":\"Grid\",\"id\":\"p1161\",\"attributes\":{\"dimension\":1,\"axis\":{\"id\":\"p1157\"},\"grid_line_color\":null}}],\"min_border_top\":10,\"min_border_bottom\":10,\"min_border_left\":10,\"min_border_right\":10,\"output_backend\":\"webgl\"}},{\"type\":\"object\",\"name\":\"Spacer\",\"id\":\"p1185\",\"attributes\":{\"name\":\"HSpacer01271\",\"stylesheets\":[\"\\n:host(.pn-loading.pn-arc):before, .pn-loading.pn-arc:before {\\n  background-image: url(\\\"data:image/svg+xml;base64,PHN2ZyB4bWxucz0iaHR0cDovL3d3dy53My5vcmcvMjAwMC9zdmciIHN0eWxlPSJtYXJnaW46IGF1dG87IGJhY2tncm91bmQ6IG5vbmU7IGRpc3BsYXk6IGJsb2NrOyBzaGFwZS1yZW5kZXJpbmc6IGF1dG87IiB2aWV3Qm94PSIwIDAgMTAwIDEwMCIgcHJlc2VydmVBc3BlY3RSYXRpbz0ieE1pZFlNaWQiPiAgPGNpcmNsZSBjeD0iNTAiIGN5PSI1MCIgZmlsbD0ibm9uZSIgc3Ryb2tlPSIjYzNjM2MzIiBzdHJva2Utd2lkdGg9IjEwIiByPSIzNSIgc3Ryb2tlLWRhc2hhcnJheT0iMTY0LjkzMzYxNDMxMzQ2NDE1IDU2Ljk3Nzg3MTQzNzgyMTM4Ij4gICAgPGFuaW1hdGVUcmFuc2Zvcm0gYXR0cmlidXRlTmFtZT0idHJhbnNmb3JtIiB0eXBlPSJyb3RhdGUiIHJlcGVhdENvdW50PSJpbmRlZmluaXRlIiBkdXI9IjFzIiB2YWx1ZXM9IjAgNTAgNTA7MzYwIDUwIDUwIiBrZXlUaW1lcz0iMDsxIj48L2FuaW1hdGVUcmFuc2Zvcm0+ICA8L2NpcmNsZT48L3N2Zz4=\\\");\\n  background-size: auto calc(min(50%, 400px));\\n}\",{\"id\":\"p1131\"},{\"id\":\"p1129\"},{\"id\":\"p1130\"}],\"margin\":0,\"sizing_mode\":\"stretch_width\",\"align\":\"start\"}}]}}],\"defs\":[{\"type\":\"model\",\"name\":\"ReactiveHTML1\"},{\"type\":\"model\",\"name\":\"FlexBox1\",\"properties\":[{\"name\":\"align_content\",\"kind\":\"Any\",\"default\":\"flex-start\"},{\"name\":\"align_items\",\"kind\":\"Any\",\"default\":\"flex-start\"},{\"name\":\"flex_direction\",\"kind\":\"Any\",\"default\":\"row\"},{\"name\":\"flex_wrap\",\"kind\":\"Any\",\"default\":\"wrap\"},{\"name\":\"justify_content\",\"kind\":\"Any\",\"default\":\"flex-start\"}]},{\"type\":\"model\",\"name\":\"FloatPanel1\",\"properties\":[{\"name\":\"config\",\"kind\":\"Any\",\"default\":{\"type\":\"map\"}},{\"name\":\"contained\",\"kind\":\"Any\",\"default\":true},{\"name\":\"position\",\"kind\":\"Any\",\"default\":\"right-top\"},{\"name\":\"offsetx\",\"kind\":\"Any\",\"default\":null},{\"name\":\"offsety\",\"kind\":\"Any\",\"default\":null},{\"name\":\"theme\",\"kind\":\"Any\",\"default\":\"primary\"},{\"name\":\"status\",\"kind\":\"Any\",\"default\":\"normalized\"}]},{\"type\":\"model\",\"name\":\"GridStack1\",\"properties\":[{\"name\":\"mode\",\"kind\":\"Any\",\"default\":\"warn\"},{\"name\":\"ncols\",\"kind\":\"Any\",\"default\":null},{\"name\":\"nrows\",\"kind\":\"Any\",\"default\":null},{\"name\":\"allow_resize\",\"kind\":\"Any\",\"default\":true},{\"name\":\"allow_drag\",\"kind\":\"Any\",\"default\":true},{\"name\":\"state\",\"kind\":\"Any\",\"default\":[]}]},{\"type\":\"model\",\"name\":\"drag1\",\"properties\":[{\"name\":\"slider_width\",\"kind\":\"Any\",\"default\":5},{\"name\":\"slider_color\",\"kind\":\"Any\",\"default\":\"black\"},{\"name\":\"value\",\"kind\":\"Any\",\"default\":50}]},{\"type\":\"model\",\"name\":\"click1\",\"properties\":[{\"name\":\"terminal_output\",\"kind\":\"Any\",\"default\":\"\"},{\"name\":\"debug_name\",\"kind\":\"Any\",\"default\":\"\"},{\"name\":\"clears\",\"kind\":\"Any\",\"default\":0}]},{\"type\":\"model\",\"name\":\"copy_to_clipboard1\",\"properties\":[{\"name\":\"fill\",\"kind\":\"Any\",\"default\":\"none\"},{\"name\":\"value\",\"kind\":\"Any\",\"default\":null}]},{\"type\":\"model\",\"name\":\"FastWrapper1\",\"properties\":[{\"name\":\"object\",\"kind\":\"Any\",\"default\":null},{\"name\":\"style\",\"kind\":\"Any\",\"default\":null}]},{\"type\":\"model\",\"name\":\"NotificationAreaBase1\",\"properties\":[{\"name\":\"js_events\",\"kind\":\"Any\",\"default\":{\"type\":\"map\"}},{\"name\":\"position\",\"kind\":\"Any\",\"default\":\"bottom-right\"},{\"name\":\"_clear\",\"kind\":\"Any\",\"default\":0}]},{\"type\":\"model\",\"name\":\"NotificationArea1\",\"properties\":[{\"name\":\"js_events\",\"kind\":\"Any\",\"default\":{\"type\":\"map\"}},{\"name\":\"notifications\",\"kind\":\"Any\",\"default\":[]},{\"name\":\"position\",\"kind\":\"Any\",\"default\":\"bottom-right\"},{\"name\":\"_clear\",\"kind\":\"Any\",\"default\":0},{\"name\":\"types\",\"kind\":\"Any\",\"default\":[{\"type\":\"map\",\"entries\":[[\"type\",\"warning\"],[\"background\",\"#ffc107\"],[\"icon\",{\"type\":\"map\",\"entries\":[[\"className\",\"fas fa-exclamation-triangle\"],[\"tagName\",\"i\"],[\"color\",\"white\"]]}]]},{\"type\":\"map\",\"entries\":[[\"type\",\"info\"],[\"background\",\"#007bff\"],[\"icon\",{\"type\":\"map\",\"entries\":[[\"className\",\"fas fa-info-circle\"],[\"tagName\",\"i\"],[\"color\",\"white\"]]}]]}]}]},{\"type\":\"model\",\"name\":\"Notification\",\"properties\":[{\"name\":\"background\",\"kind\":\"Any\",\"default\":null},{\"name\":\"duration\",\"kind\":\"Any\",\"default\":3000},{\"name\":\"icon\",\"kind\":\"Any\",\"default\":null},{\"name\":\"message\",\"kind\":\"Any\",\"default\":\"\"},{\"name\":\"notification_type\",\"kind\":\"Any\",\"default\":null},{\"name\":\"_destroyed\",\"kind\":\"Any\",\"default\":false}]},{\"type\":\"model\",\"name\":\"TemplateActions1\",\"properties\":[{\"name\":\"open_modal\",\"kind\":\"Any\",\"default\":0},{\"name\":\"close_modal\",\"kind\":\"Any\",\"default\":0}]},{\"type\":\"model\",\"name\":\"BootstrapTemplateActions1\",\"properties\":[{\"name\":\"open_modal\",\"kind\":\"Any\",\"default\":0},{\"name\":\"close_modal\",\"kind\":\"Any\",\"default\":0}]},{\"type\":\"model\",\"name\":\"MaterialTemplateActions1\",\"properties\":[{\"name\":\"open_modal\",\"kind\":\"Any\",\"default\":0},{\"name\":\"close_modal\",\"kind\":\"Any\",\"default\":0}]}]}};\n",
       "  var render_items = [{\"docid\":\"8c1f1ba0-2312-41c1-967a-9aeb90ae35d2\",\"roots\":{\"p1128\":\"b98f0da0-7667-4b7e-b88a-c4636a50a167\"},\"root_ids\":[\"p1128\"]}];\n",
       "  var docs = Object.values(docs_json)\n",
       "  if (!docs) {\n",
       "    return\n",
       "  }\n",
       "  const py_version = docs[0].version.replace('rc', '-rc.').replace('.dev', '-dev.')\n",
       "  function embed_document(root) {\n",
       "    var Bokeh = get_bokeh(root)\n",
       "    Bokeh.embed.embed_items_notebook(docs_json, render_items);\n",
       "    for (const render_item of render_items) {\n",
       "      for (const root_id of render_item.root_ids) {\n",
       "\tconst id_el = document.getElementById(root_id)\n",
       "\tif (id_el.children.length && (id_el.children[0].className === 'bk-root')) {\n",
       "\t  const root_el = id_el.children[0]\n",
       "\t  root_el.id = root_el.id + '-rendered'\n",
       "\t}\n",
       "      }\n",
       "    }\n",
       "  }\n",
       "  function get_bokeh(root) {\n",
       "    if (root.Bokeh === undefined) {\n",
       "      return null\n",
       "    } else if (root.Bokeh.version !== py_version) {\n",
       "      if (root.Bokeh.versions === undefined || !root.Bokeh.versions.has(py_version)) {\n",
       "\treturn null\n",
       "      }\n",
       "      return root.Bokeh.versions.get(py_version);\n",
       "    } else if (root.Bokeh.version === py_version) {\n",
       "      return root.Bokeh\n",
       "    }\n",
       "    return null\n",
       "  }\n",
       "  function is_loaded(root) {\n",
       "    var Bokeh = get_bokeh(root)\n",
       "    return (Bokeh != null && Bokeh.Panel !== undefined)\n",
       "  }\n",
       "  if (is_loaded(root)) {\n",
       "    embed_document(root);\n",
       "  } else {\n",
       "    var attempts = 0;\n",
       "    var timer = setInterval(function(root) {\n",
       "      if (is_loaded(root)) {\n",
       "        clearInterval(timer);\n",
       "        embed_document(root);\n",
       "      } else if (document.readyState == \"complete\") {\n",
       "        attempts++;\n",
       "        if (attempts > 200) {\n",
       "          clearInterval(timer);\n",
       "\t  var Bokeh = get_bokeh(root)\n",
       "\t  if (Bokeh == null || Bokeh.Panel == null) {\n",
       "            console.warn(\"Panel: ERROR: Unable to run Panel code because Bokeh or Panel library is missing\");\n",
       "\t  } else {\n",
       "\t    console.warn(\"Panel: WARNING: Attempting to render but not all required libraries could be resolved.\")\n",
       "\t    embed_document(root)\n",
       "\t  }\n",
       "        }\n",
       "      }\n",
       "    }, 25, root)\n",
       "  }\n",
       "})(window);</script>"
      ],
      "text/plain": [
       ":Curve   [streams]   (bpm)"
      ]
     },
     "execution_count": 35,
     "metadata": {
      "application/vnd.holoviews_exec.v0+json": {
       "id": "p1128"
      }
     },
     "output_type": "execute_result"
    }
   ],
   "source": [
    "# Create a line plot of ads versus the predicted sales values\n",
    "best_fit_line = df_streams_predicted.hvplot.line(\n",
    "    x = \"streams\",\n",
    "    y = \"bpm\",\n",
    "    color = \"red\"\n",
    ")\n",
    "best_fit_line"
   ]
  },
  {
   "cell_type": "code",
   "execution_count": 37,
   "metadata": {},
   "outputs": [
    {
     "data": {},
     "metadata": {},
     "output_type": "display_data"
    },
    {
     "data": {
      "application/vnd.holoviews_exec.v0+json": "",
      "text/html": [
       "<div id='p1190'>\n",
       "  <div id=\"eec30369-7d51-4bab-ba30-ffc74ecdd5bf\" data-root-id=\"p1190\" style=\"display: contents;\"></div>\n",
       "</div>\n",
       "<script type=\"application/javascript\">(function(root) {\n",
       "  var docs_json = {\"f38b385e-cb96-4756-83e0-0bc9c98cc480\":{\"version\":\"3.3.4\",\"title\":\"Bokeh Application\",\"roots\":[{\"type\":\"object\",\"name\":\"Row\",\"id\":\"p1190\",\"attributes\":{\"name\":\"Row01295\",\"tags\":[\"embedded\"],\"stylesheets\":[\"\\n:host(.pn-loading.pn-arc):before, .pn-loading.pn-arc:before {\\n  background-image: url(\\\"data:image/svg+xml;base64,PHN2ZyB4bWxucz0iaHR0cDovL3d3dy53My5vcmcvMjAwMC9zdmciIHN0eWxlPSJtYXJnaW46IGF1dG87IGJhY2tncm91bmQ6IG5vbmU7IGRpc3BsYXk6IGJsb2NrOyBzaGFwZS1yZW5kZXJpbmc6IGF1dG87IiB2aWV3Qm94PSIwIDAgMTAwIDEwMCIgcHJlc2VydmVBc3BlY3RSYXRpbz0ieE1pZFlNaWQiPiAgPGNpcmNsZSBjeD0iNTAiIGN5PSI1MCIgZmlsbD0ibm9uZSIgc3Ryb2tlPSIjYzNjM2MzIiBzdHJva2Utd2lkdGg9IjEwIiByPSIzNSIgc3Ryb2tlLWRhc2hhcnJheT0iMTY0LjkzMzYxNDMxMzQ2NDE1IDU2Ljk3Nzg3MTQzNzgyMTM4Ij4gICAgPGFuaW1hdGVUcmFuc2Zvcm0gYXR0cmlidXRlTmFtZT0idHJhbnNmb3JtIiB0eXBlPSJyb3RhdGUiIHJlcGVhdENvdW50PSJpbmRlZmluaXRlIiBkdXI9IjFzIiB2YWx1ZXM9IjAgNTAgNTA7MzYwIDUwIDUwIiBrZXlUaW1lcz0iMDsxIj48L2FuaW1hdGVUcmFuc2Zvcm0+ICA8L2NpcmNsZT48L3N2Zz4=\\\");\\n  background-size: auto calc(min(50%, 400px));\\n}\",{\"type\":\"object\",\"name\":\"ImportedStyleSheet\",\"id\":\"p1193\",\"attributes\":{\"url\":\"https://cdn.holoviz.org/panel/1.3.8/dist/css/loading.css\"}},{\"type\":\"object\",\"name\":\"ImportedStyleSheet\",\"id\":\"p1265\",\"attributes\":{\"url\":\"https://cdn.holoviz.org/panel/1.3.8/dist/css/listpanel.css\"}},{\"type\":\"object\",\"name\":\"ImportedStyleSheet\",\"id\":\"p1191\",\"attributes\":{\"url\":\"https://cdn.holoviz.org/panel/1.3.8/dist/bundled/theme/default.css\"}},{\"type\":\"object\",\"name\":\"ImportedStyleSheet\",\"id\":\"p1192\",\"attributes\":{\"url\":\"https://cdn.holoviz.org/panel/1.3.8/dist/bundled/theme/native.css\"}}],\"min_width\":700,\"margin\":0,\"sizing_mode\":\"stretch_width\",\"align\":\"start\",\"children\":[{\"type\":\"object\",\"name\":\"Spacer\",\"id\":\"p1194\",\"attributes\":{\"name\":\"HSpacer01301\",\"stylesheets\":[\"\\n:host(.pn-loading.pn-arc):before, .pn-loading.pn-arc:before {\\n  background-image: url(\\\"data:image/svg+xml;base64,PHN2ZyB4bWxucz0iaHR0cDovL3d3dy53My5vcmcvMjAwMC9zdmciIHN0eWxlPSJtYXJnaW46IGF1dG87IGJhY2tncm91bmQ6IG5vbmU7IGRpc3BsYXk6IGJsb2NrOyBzaGFwZS1yZW5kZXJpbmc6IGF1dG87IiB2aWV3Qm94PSIwIDAgMTAwIDEwMCIgcHJlc2VydmVBc3BlY3RSYXRpbz0ieE1pZFlNaWQiPiAgPGNpcmNsZSBjeD0iNTAiIGN5PSI1MCIgZmlsbD0ibm9uZSIgc3Ryb2tlPSIjYzNjM2MzIiBzdHJva2Utd2lkdGg9IjEwIiByPSIzNSIgc3Ryb2tlLWRhc2hhcnJheT0iMTY0LjkzMzYxNDMxMzQ2NDE1IDU2Ljk3Nzg3MTQzNzgyMTM4Ij4gICAgPGFuaW1hdGVUcmFuc2Zvcm0gYXR0cmlidXRlTmFtZT0idHJhbnNmb3JtIiB0eXBlPSJyb3RhdGUiIHJlcGVhdENvdW50PSJpbmRlZmluaXRlIiBkdXI9IjFzIiB2YWx1ZXM9IjAgNTAgNTA7MzYwIDUwIDUwIiBrZXlUaW1lcz0iMDsxIj48L2FuaW1hdGVUcmFuc2Zvcm0+ICA8L2NpcmNsZT48L3N2Zz4=\\\");\\n  background-size: auto calc(min(50%, 400px));\\n}\",{\"id\":\"p1193\"},{\"id\":\"p1191\"},{\"id\":\"p1192\"}],\"margin\":0,\"sizing_mode\":\"stretch_width\",\"align\":\"start\"}},{\"type\":\"object\",\"name\":\"Figure\",\"id\":\"p1205\",\"attributes\":{\"width\":700,\"height\":300,\"margin\":[5,10],\"sizing_mode\":\"fixed\",\"align\":\"start\",\"x_range\":{\"type\":\"object\",\"name\":\"Range1d\",\"id\":\"p1195\",\"attributes\":{\"tags\":[[[\"streams\",\"streams\",null]],[]],\"start\":-158735479.94285715,\"end\":3862633315.9428573,\"reset_start\":-158735479.94285715,\"reset_end\":3862633315.9428573}},\"y_range\":{\"type\":\"object\",\"name\":\"Range1d\",\"id\":\"p1196\",\"attributes\":{\"tags\":[[[\"bpm\",\"bpm\",null]],{\"type\":\"map\",\"entries\":[[\"invert_yaxis\",false],[\"autorange\",false]]}],\"start\":50.9,\"end\":220.1,\"reset_start\":50.9,\"reset_end\":220.1}},\"x_scale\":{\"type\":\"object\",\"name\":\"LinearScale\",\"id\":\"p1215\"},\"y_scale\":{\"type\":\"object\",\"name\":\"LinearScale\",\"id\":\"p1216\"},\"title\":{\"type\":\"object\",\"name\":\"Title\",\"id\":\"p1208\",\"attributes\":{\"text\":\"Streams per BPM\",\"text_color\":\"black\",\"text_font_size\":\"12pt\"}},\"renderers\":[{\"type\":\"object\",\"name\":\"GlyphRenderer\",\"id\":\"p1245\",\"attributes\":{\"data_source\":{\"type\":\"object\",\"name\":\"ColumnDataSource\",\"id\":\"p1236\",\"attributes\":{\"selected\":{\"type\":\"object\",\"name\":\"Selection\",\"id\":\"p1237\",\"attributes\":{\"indices\":[],\"line_indices\":[]}},\"selection_policy\":{\"type\":\"object\",\"name\":\"UnionRenderers\",\"id\":\"p1238\"},\"data\":{\"type\":\"map\",\"entries\":[[\"streams\",{\"type\":\"ndarray\",\"array\":[141381703,133716286,140003974,800840817,303236322,183706234,725980112,58149378,95217315,553634067,505671438,58255150,1316855716,387570742,2513188493,1163093654,496795686,30546883,335222234,363369738,86444842,52135248,1297026226,200647221,115364561,78300654,899183384,61245289,429829812,127408954,22581161,52294266,843957510,999748277,618990393,123122413,188933502,1355959075,786181836,176553476,354495408,2808096550,1109433169,1047101291,65156199,570515054,1085685420,1647990401,2565529693,518745108,107753850,177740666,153372011,57876440,1813673666,3703895074,256483385,1214083358,16011326,812019557,111947664,156338624,720434240,357925728,674072710,1755214421,404562836,373199958,14780425,39578178,54266102,2557975762,751134527,2282771485,1356565093,1592909789,635412045,1230675890,585695368,43857627,2009094673,600976848,39709092,39228929,2665343922,223633238,2887241814,1440757818,165484133,58054811,157058870,95131998,250305248,685032533,38411956,144565150,127567540,399686758,983637508,118482347,882831184,286400165,172825906,1241559043,29562220,77309611,1605224506,1116995633,838079900,1163620694,1093605526,179659294,39058561,36912123,1205951614,1791000570,201660859,248088961,90839753,607123776,55842345,211050784,342897938,2762,330346424,601863821,1953533826,2322580122,2355719893,66902503,96273746,430977451,284819874,721975598,1217120710,109276132,276259178,54225632,2559529074,681583126,2594040133,81102253,11956641,1687664027,11599388,611700552,1133865788,1089402494,411747614,255932395,31873544,95053634,1279434863,233801632,1481349984,142095275,618885532,2011464183,1167330737,929964809,436027885,657723613,2713922350,621660989,1591223784,950906471,1593270737,1410088830,1235005533,1661187319,1374581173,94186466,1788326445,1840364617,143573775,684675814,1113838873,1267333350,726307468,3562543890,1131090940,307370144,1271293243,265882712,841749534,47956378,806397070,2132335812,1641426668,2135158446,367316268,350381515,1264310836,30343206,405136812,1145727611,540654286,57312735,397582059,1479115056,86773632,133753727,123124076,463564958,64533040,65496046,68616963,161460990,70106975,113509496,89933133,71007139,43522589,232896922,37126685,195576623,532336353,538115192,46142772,401036314,127026613,345031710,288101651,60350538,335074782,76767396,46065667,459276435,39666245,138517666,822633917,595900742,51985779,57945987,115010040,175097833,57089066,488386797,32761689,1047480053,153454328,217672943,457184829,939844851,726434358,573633020,1406111294,71573339,24975653,145458418,1424589568,231332117,415932686,988515741,50847624,39893489,92035115,118810253,77233241,206399629,117747907,266624541,293186992,139681964,123132751,103762518,162887075,91221625,190490915,96180277,185240616,885093467,104992946,147290338,1302184087,158950978,76910644,137123880,782369383,502574952,207033255,404887295,381161027,466231982,357580552,61105704,198275403,168448603,705469769,34502215,482175240,304118600,1449799467,173627354,90025258,652704649,1829992958,655466831,146409671,95816024,117206995,100409613,80758350,325592432,58473276,52722996,191945597,77377503,743693613,267789608,1221813483,449701773,67070410,116334601,433356509,165584767,367814306,477033549,156214700,448843705,1357608774,294352144,972164968,920045682,2420461338,1947371785,244658767,68216992,223582566,471819764,272377463,1361425037,149778242,116599790,148469433,497225336,88791109,125917280,105062254,95623148,144584800,298063749,166570053,83021468,139836056,303216294,221409663,58890931,81419389,156777415,284908316,93438910,363472647,372476382,380726517,56533272,175399345,203221468,1624165576,134294498,70069745,609293408,671365962,362361576,93587665,1223481149,1022258230,263453310,1435127549,236857112,147538971,698086140,723894473,34450974,403097450,309483971,319566866,909001996,1061966512,32526947,124988687,103787664,134255790,301051721,156338624,152850295,309653982,297328960,332506354,480507035,1065580332,122763672,445763624,1365184,184308753,789753877,323358833,606361689,120972253,338564981,1606986953,1301799902,140187018,1897517891,107642809,551305895,556585270,2303033973,646886885,222612678,1814349763,872137015,571386359,304079786,174006928,284785823,163284000,246390068,482257456,168684524,78489819,195516622,1260594497,428685680,1024858327,838586769,199386237,972509632,213438580,1555511105,210038833,227918678,826623384,1802514301,1329090101,181831132,462791599,348647203,366599607,90598517,1479264469,1449779435,1159176109,769213520,741301563,807561936,834129063,663832097,446390129,690104769,485285717,520034544,476244795,629173063,404664135,98709329,110849052,460492795,94005786,395591396,389771964,403939487,481697415,110073250,88092256,351636786,473248298,73981293,155653938,395591396,429504768,242767149,65362788,67540165,62019074,135723538,295998468,261116938,136689549,135611421,356709897,110649992,301869854,127027715,57144458,56870689,323437194,317726339,116144341,328207708,608228647,180577478,809306935,49262961,614555082,245350949,178660459,51641685,78139948,322336177,1007612429,326792833,391251368,349585590,339659802,674772936,432719968,1309887447,119238316,116903579,888046992,200660871,130655803,1887039593,88103848,101114984,1575467011,91656026,1042568408,1735441776,726837877,53933526,267758538,74601456,920797189,539595276,1367810478,578207856,775542072,863625566,656013912,1056760045,611994237,1230855859,582981380,1858144199,240684449,583687007,63803529,466214729,236940480,41924466,225259194,393230256,287201015,599770206,342779426,673801126,1168642797,540539717,383550148,530511203,37307967,510876816,1445941661,1763363713,374191487,108809090,436695353,421040617,501541661,354065229,1143647827,311395144,672656250,1256880657,1692897992,245095641,686734357,261414174,610045621,1115880852,594482982,566954746,374706940,184937148,31959571,167076418,824420218,363467642,1127468248,60680939,247737946,1699402402,154797871,198883004,124407432,850608354,376333030,516784627,1608045237,506778838,1472799873,513643924,261286503,783706581,422691058,1062345656,1252563873,851070493,263894529,345903614,951637566,956865266,427486004,156658366,624515457,777765388,412795151,1138474110,355219175,290228626,1062956628,1180094974,1456081449,432702334,489945871,465959382,1223481149,2864791672,2288695111,720825549,2086124197,1690192927,991336132,593917618,200972675,71014967,560222750,1806617704,77337771,528544703,865640097,2159346687,211372494,651732901,608334048,863756573,797402345,1695712020,1759567999,223319934,54937991,226897599,258316038,596152090,177129919,716591492,1210599487,246376690,496311364,146789379,843309044,500340342,107255472,135079152,822239726,1202722675,343197054,240769997,426204830,421135627,554875730,467727006,327498031,185408548,245400167,579395142,675039469,252871192,231996128,1929770265,918915401,1180896317,498960285,685071800,258714692,143139338,209768491,64714573,50746620,154119539,181328253,370068639,2280566092,563902868,317622165,291709698,203680270,81350745,282883169,64787943,2484812918,461437791,1439191367,759208783,368646862,299634472,756907987,682475162,546191065,229473310,202677468,121913181,208166039,527033089,94616487,394030335,193443895,299648208,182978249,319757142,109091573,153240879,346127840,312622938,2197010679,1200808494,797196073,1970673297,665765558,263779030,339473453,2204080728,2591224264,135444283,1457139296,236872197,694525298,240661097,421365166,349746291,255120451,190981339,924193303,305771063,273005485,89566512,677389855,75476209,408843328,187772591,178512385,101780047,118381354,146363130,126443991,157990698,176290831,1023187129,106933107,139193812,212234990,1714490998,197643795,807015863,933815613,499710590,120847157,53909146,2236667932,2123309722,301242089,723894473,237351106,461558540,417230415,156898322,127309180,313113297,173702135,271666301,305650299,123216717,479655659,126191104,344055883,338422004,68895644,86176890,403231558,319546754,61739839,283359161,76831876,283332261,307752576,279737940,212351890,1304313953,150500965,246127838,582863434,58687425,212109195,382199619,41210087,231657891,53729194,244741137,42485571,37778188,254218729,53603447,160035717,164163229,37091576,284249832,33381454,184622518,300983101,121077868,106919680,136996305,65719930,229497852,185550869,54682594,240580042,1284942608,71423324,244891912,132171975,184706613,184826429,302006641,330881149,334733572,366214458,114546317,290833204,448500832,136676504,190625045,79095270,273194684,333146475,194902696,311482393,195918494,248511839,233671263,199587884,91781263,383835984,236060709,189236868,160845341,588955257,238350348,187703102,295307001,138334433,445590495,286739476,1122364376,157136970,137070925,183273246,184807630,164856284,704171068,354614964,279717388,195628667,221752937,263280370,213505179,130419412,155795783,1553497987,293466523,711366595,191448892,85924992,176103902,121189256,131746175,244790012,129314708,331511413,219196651,170732845,273914335,179061440,185236961,171788484,387080183,264717480,244928911,97610446,287278853,887906111,123473120,295152154,323455692,240918092,191873381,284216603,239411309,265548837,703301727,244585109,189476119,277132266,278920007,222410722,185392587,202452860,1608164312,624101957,148461629,47093942,380319238,209106362,53987404,115331792,225093344,84697729,159240673,170709584,154356956,723043854,247689123,176474912,235549288,140430339,85559365,146223492,187701588,154863153,191333656,253650850,223064273,170413877,218320587,141720999,187339835,198365537,186104310,177503916,71095708,112436403,203436468,93367537,106249219,181382590,91473363,121871870,73513683,133895612,96007391],\"shape\":[952],\"dtype\":\"object\",\"order\":\"little\"}],[\"bpm\",{\"type\":\"ndarray\",\"array\":{\"type\":\"bytes\",\"data\":\"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\"},\"shape\":[952],\"dtype\":\"int32\",\"order\":\"little\"}]]}}},\"view\":{\"type\":\"object\",\"name\":\"CDSView\",\"id\":\"p1246\",\"attributes\":{\"filter\":{\"type\":\"object\",\"name\":\"AllIndices\",\"id\":\"p1247\"}}},\"glyph\":{\"type\":\"object\",\"name\":\"Scatter\",\"id\":\"p1242\",\"attributes\":{\"tags\":[\"apply_ranges\"],\"x\":{\"type\":\"field\",\"field\":\"streams\"},\"y\":{\"type\":\"field\",\"field\":\"bpm\"},\"size\":{\"type\":\"value\",\"value\":5.477225575051661},\"line_color\":{\"type\":\"value\",\"value\":\"#30a2da\"},\"fill_color\":{\"type\":\"value\",\"value\":\"#30a2da\"},\"hatch_color\":{\"type\":\"value\",\"value\":\"#30a2da\"}}},\"selection_glyph\":{\"type\":\"object\",\"name\":\"Scatter\",\"id\":\"p1248\",\"attributes\":{\"tags\":[\"apply_ranges\"],\"x\":{\"type\":\"field\",\"field\":\"streams\"},\"y\":{\"type\":\"field\",\"field\":\"bpm\"},\"size\":{\"type\":\"value\",\"value\":5.477225575051661},\"angle\":{\"type\":\"value\",\"value\":0.0},\"line_color\":{\"type\":\"value\",\"value\":\"#30a2da\"},\"line_alpha\":{\"type\":\"value\",\"value\":1.0},\"line_width\":{\"type\":\"value\",\"value\":1},\"line_join\":{\"type\":\"value\",\"value\":\"bevel\"},\"line_cap\":{\"type\":\"value\",\"value\":\"butt\"},\"line_dash\":{\"type\":\"value\",\"value\":[]},\"line_dash_offset\":{\"type\":\"value\",\"value\":0},\"fill_color\":{\"type\":\"value\",\"value\":\"#30a2da\"},\"fill_alpha\":{\"type\":\"value\",\"value\":1.0},\"hatch_color\":{\"type\":\"value\",\"value\":\"#30a2da\"},\"hatch_alpha\":{\"type\":\"value\",\"value\":1.0},\"hatch_scale\":{\"type\":\"value\",\"value\":12.0},\"hatch_pattern\":{\"type\":\"value\",\"value\":null},\"hatch_weight\":{\"type\":\"value\",\"value\":1.0},\"marker\":{\"type\":\"value\",\"value\":\"circle\"}}},\"nonselection_glyph\":{\"type\":\"object\",\"name\":\"Scatter\",\"id\":\"p1243\",\"attributes\":{\"tags\":[\"apply_ranges\"],\"x\":{\"type\":\"field\",\"field\":\"streams\"},\"y\":{\"type\":\"field\",\"field\":\"bpm\"},\"size\":{\"type\":\"value\",\"value\":5.477225575051661},\"line_color\":{\"type\":\"value\",\"value\":\"#30a2da\"},\"line_alpha\":{\"type\":\"value\",\"value\":0.1},\"fill_color\":{\"type\":\"value\",\"value\":\"#30a2da\"},\"fill_alpha\":{\"type\":\"value\",\"value\":0.1},\"hatch_color\":{\"type\":\"value\",\"value\":\"#30a2da\"},\"hatch_alpha\":{\"type\":\"value\",\"value\":0.1}}},\"muted_glyph\":{\"type\":\"object\",\"name\":\"Scatter\",\"id\":\"p1244\",\"attributes\":{\"tags\":[\"apply_ranges\"],\"x\":{\"type\":\"field\",\"field\":\"streams\"},\"y\":{\"type\":\"field\",\"field\":\"bpm\"},\"size\":{\"type\":\"value\",\"value\":5.477225575051661},\"line_color\":{\"type\":\"value\",\"value\":\"#30a2da\"},\"line_alpha\":{\"type\":\"value\",\"value\":0.2},\"fill_color\":{\"type\":\"value\",\"value\":\"#30a2da\"},\"fill_alpha\":{\"type\":\"value\",\"value\":0.2},\"hatch_color\":{\"type\":\"value\",\"value\":\"#30a2da\"},\"hatch_alpha\":{\"type\":\"value\",\"value\":0.2}}}}},{\"type\":\"object\",\"name\":\"GlyphRenderer\",\"id\":\"p1258\",\"attributes\":{\"data_source\":{\"type\":\"object\",\"name\":\"ColumnDataSource\",\"id\":\"p1249\",\"attributes\":{\"selected\":{\"type\":\"object\",\"name\":\"Selection\",\"id\":\"p1250\",\"attributes\":{\"indices\":[],\"line_indices\":[]}},\"selection_policy\":{\"type\":\"object\",\"name\":\"UnionRenderers\",\"id\":\"p1251\"},\"data\":{\"type\":\"map\",\"entries\":[[\"streams\",{\"type\":\"ndarray\",\"array\":[141381703,133716286,140003974,800840817,303236322,183706234,725980112,58149378,95217315,553634067,505671438,58255150,1316855716,387570742,2513188493,1163093654,496795686,30546883,335222234,363369738,86444842,52135248,1297026226,200647221,115364561,78300654,899183384,61245289,429829812,127408954,22581161,52294266,843957510,999748277,618990393,123122413,188933502,1355959075,786181836,176553476,354495408,2808096550,1109433169,1047101291,65156199,570515054,1085685420,1647990401,2565529693,518745108,107753850,177740666,153372011,57876440,1813673666,3703895074,256483385,1214083358,16011326,812019557,111947664,156338624,720434240,357925728,674072710,1755214421,404562836,373199958,14780425,39578178,54266102,2557975762,751134527,2282771485,1356565093,1592909789,635412045,1230675890,585695368,43857627,2009094673,600976848,39709092,39228929,2665343922,223633238,2887241814,1440757818,165484133,58054811,157058870,95131998,250305248,685032533,38411956,144565150,127567540,399686758,983637508,118482347,882831184,286400165,172825906,1241559043,29562220,77309611,1605224506,1116995633,838079900,1163620694,1093605526,179659294,39058561,36912123,1205951614,1791000570,201660859,248088961,90839753,607123776,55842345,211050784,342897938,2762,330346424,601863821,1953533826,2322580122,2355719893,66902503,96273746,430977451,284819874,721975598,1217120710,109276132,276259178,54225632,2559529074,681583126,2594040133,81102253,11956641,1687664027,11599388,611700552,1133865788,1089402494,411747614,255932395,31873544,95053634,1279434863,233801632,1481349984,142095275,618885532,2011464183,1167330737,929964809,436027885,657723613,2713922350,621660989,1591223784,950906471,1593270737,1410088830,1235005533,1661187319,1374581173,94186466,1788326445,1840364617,143573775,684675814,1113838873,1267333350,726307468,3562543890,1131090940,307370144,1271293243,265882712,841749534,47956378,806397070,2132335812,1641426668,2135158446,367316268,350381515,1264310836,30343206,405136812,1145727611,540654286,57312735,397582059,1479115056,86773632,133753727,123124076,463564958,64533040,65496046,68616963,161460990,70106975,113509496,89933133,71007139,43522589,232896922,37126685,195576623,532336353,538115192,46142772,401036314,127026613,345031710,288101651,60350538,335074782,76767396,46065667,459276435,39666245,138517666,822633917,595900742,51985779,57945987,115010040,175097833,57089066,488386797,32761689,1047480053,153454328,217672943,457184829,939844851,726434358,573633020,1406111294,71573339,24975653,145458418,1424589568,231332117,415932686,988515741,50847624,39893489,92035115,118810253,77233241,206399629,117747907,266624541,293186992,139681964,123132751,103762518,162887075,91221625,190490915,96180277,185240616,885093467,104992946,147290338,1302184087,158950978,76910644,137123880,782369383,502574952,207033255,404887295,381161027,466231982,357580552,61105704,198275403,168448603,705469769,34502215,482175240,304118600,1449799467,173627354,90025258,652704649,1829992958,655466831,146409671,95816024,117206995,100409613,80758350,325592432,58473276,52722996,191945597,77377503,743693613,267789608,1221813483,449701773,67070410,116334601,433356509,165584767,367814306,477033549,156214700,448843705,1357608774,294352144,972164968,920045682,2420461338,1947371785,244658767,68216992,223582566,471819764,272377463,1361425037,149778242,116599790,148469433,497225336,88791109,125917280,105062254,95623148,144584800,298063749,166570053,83021468,139836056,303216294,221409663,58890931,81419389,156777415,284908316,93438910,363472647,372476382,380726517,56533272,175399345,203221468,1624165576,134294498,70069745,609293408,671365962,362361576,93587665,1223481149,1022258230,263453310,1435127549,236857112,147538971,698086140,723894473,34450974,403097450,309483971,319566866,909001996,1061966512,32526947,124988687,103787664,134255790,301051721,156338624,152850295,309653982,297328960,332506354,480507035,1065580332,122763672,445763624,1365184,184308753,789753877,323358833,606361689,120972253,338564981,1606986953,1301799902,140187018,1897517891,107642809,551305895,556585270,2303033973,646886885,222612678,1814349763,872137015,571386359,304079786,174006928,284785823,163284000,246390068,482257456,168684524,78489819,195516622,1260594497,428685680,1024858327,838586769,199386237,972509632,213438580,1555511105,210038833,227918678,826623384,1802514301,1329090101,181831132,462791599,348647203,366599607,90598517,1479264469,1449779435,1159176109,769213520,741301563,807561936,834129063,663832097,446390129,690104769,485285717,520034544,476244795,629173063,404664135,98709329,110849052,460492795,94005786,395591396,389771964,403939487,481697415,110073250,88092256,351636786,473248298,73981293,155653938,395591396,429504768,242767149,65362788,67540165,62019074,135723538,295998468,261116938,136689549,135611421,356709897,110649992,301869854,127027715,57144458,56870689,323437194,317726339,116144341,328207708,608228647,180577478,809306935,49262961,614555082,245350949,178660459,51641685,78139948,322336177,1007612429,326792833,391251368,349585590,339659802,674772936,432719968,1309887447,119238316,116903579,888046992,200660871,130655803,1887039593,88103848,101114984,1575467011,91656026,1042568408,1735441776,726837877,53933526,267758538,74601456,920797189,539595276,1367810478,578207856,775542072,863625566,656013912,1056760045,611994237,1230855859,582981380,1858144199,240684449,583687007,63803529,466214729,236940480,41924466,225259194,393230256,287201015,599770206,342779426,673801126,1168642797,540539717,383550148,530511203,37307967,510876816,1445941661,1763363713,374191487,108809090,436695353,421040617,501541661,354065229,1143647827,311395144,672656250,1256880657,1692897992,245095641,686734357,261414174,610045621,1115880852,594482982,566954746,374706940,184937148,31959571,167076418,824420218,363467642,1127468248,60680939,247737946,1699402402,154797871,198883004,124407432,850608354,376333030,516784627,1608045237,506778838,1472799873,513643924,261286503,783706581,422691058,1062345656,1252563873,851070493,263894529,345903614,951637566,956865266,427486004,156658366,624515457,777765388,412795151,1138474110,355219175,290228626,1062956628,1180094974,1456081449,432702334,489945871,465959382,1223481149,2864791672,2288695111,720825549,2086124197,1690192927,991336132,593917618,200972675,71014967,560222750,1806617704,77337771,528544703,865640097,2159346687,211372494,651732901,608334048,863756573,797402345,1695712020,1759567999,223319934,54937991,226897599,258316038,596152090,177129919,716591492,1210599487,246376690,496311364,146789379,843309044,500340342,107255472,135079152,822239726,1202722675,343197054,240769997,426204830,421135627,554875730,467727006,327498031,185408548,245400167,579395142,675039469,252871192,231996128,1929770265,918915401,1180896317,498960285,685071800,258714692,143139338,209768491,64714573,50746620,154119539,181328253,370068639,2280566092,563902868,317622165,291709698,203680270,81350745,282883169,64787943,2484812918,461437791,1439191367,759208783,368646862,299634472,756907987,682475162,546191065,229473310,202677468,121913181,208166039,527033089,94616487,394030335,193443895,299648208,182978249,319757142,109091573,153240879,346127840,312622938,2197010679,1200808494,797196073,1970673297,665765558,263779030,339473453,2204080728,2591224264,135444283,1457139296,236872197,694525298,240661097,421365166,349746291,255120451,190981339,924193303,305771063,273005485,89566512,677389855,75476209,408843328,187772591,178512385,101780047,118381354,146363130,126443991,157990698,176290831,1023187129,106933107,139193812,212234990,1714490998,197643795,807015863,933815613,499710590,120847157,53909146,2236667932,2123309722,301242089,723894473,237351106,461558540,417230415,156898322,127309180,313113297,173702135,271666301,305650299,123216717,479655659,126191104,344055883,338422004,68895644,86176890,403231558,319546754,61739839,283359161,76831876,283332261,307752576,279737940,212351890,1304313953,150500965,246127838,582863434,58687425,212109195,382199619,41210087,231657891,53729194,244741137,42485571,37778188,254218729,53603447,160035717,164163229,37091576,284249832,33381454,184622518,300983101,121077868,106919680,136996305,65719930,229497852,185550869,54682594,240580042,1284942608,71423324,244891912,132171975,184706613,184826429,302006641,330881149,334733572,366214458,114546317,290833204,448500832,136676504,190625045,79095270,273194684,333146475,194902696,311482393,195918494,248511839,233671263,199587884,91781263,383835984,236060709,189236868,160845341,588955257,238350348,187703102,295307001,138334433,445590495,286739476,1122364376,157136970,137070925,183273246,184807630,164856284,704171068,354614964,279717388,195628667,221752937,263280370,213505179,130419412,155795783,1553497987,293466523,711366595,191448892,85924992,176103902,121189256,131746175,244790012,129314708,331511413,219196651,170732845,273914335,179061440,185236961,171788484,387080183,264717480,244928911,97610446,287278853,887906111,123473120,295152154,323455692,240918092,191873381,284216603,239411309,265548837,703301727,244585109,189476119,277132266,278920007,222410722,185392587,202452860,1608164312,624101957,148461629,47093942,380319238,209106362,53987404,115331792,225093344,84697729,159240673,170709584,154356956,723043854,247689123,176474912,235549288,140430339,85559365,146223492,187701588,154863153,191333656,253650850,223064273,170413877,218320587,141720999,187339835,198365537,186104310,177503916,71095708,112436403,203436468,93367537,106249219,181382590,91473363,121871870,73513683,133895612,96007391],\"shape\":[952],\"dtype\":\"object\",\"order\":\"little\"}],[\"bpm\",{\"type\":\"ndarray\",\"array\":{\"type\":\"bytes\",\"data\":\"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\"},\"shape\":[952],\"dtype\":\"int32\",\"order\":\"little\"}]]}}},\"view\":{\"type\":\"object\",\"name\":\"CDSView\",\"id\":\"p1259\",\"attributes\":{\"filter\":{\"type\":\"object\",\"name\":\"AllIndices\",\"id\":\"p1260\"}}},\"glyph\":{\"type\":\"object\",\"name\":\"Line\",\"id\":\"p1255\",\"attributes\":{\"tags\":[\"apply_ranges\"],\"x\":{\"type\":\"field\",\"field\":\"streams\"},\"y\":{\"type\":\"field\",\"field\":\"bpm\"},\"line_color\":\"red\",\"line_width\":2}},\"selection_glyph\":{\"type\":\"object\",\"name\":\"Line\",\"id\":\"p1261\",\"attributes\":{\"tags\":[\"apply_ranges\"],\"x\":{\"type\":\"field\",\"field\":\"streams\"},\"y\":{\"type\":\"field\",\"field\":\"bpm\"},\"line_color\":\"red\",\"line_width\":2}},\"nonselection_glyph\":{\"type\":\"object\",\"name\":\"Line\",\"id\":\"p1256\",\"attributes\":{\"tags\":[\"apply_ranges\"],\"x\":{\"type\":\"field\",\"field\":\"streams\"},\"y\":{\"type\":\"field\",\"field\":\"bpm\"},\"line_color\":\"red\",\"line_alpha\":0.1,\"line_width\":2}},\"muted_glyph\":{\"type\":\"object\",\"name\":\"Line\",\"id\":\"p1257\",\"attributes\":{\"tags\":[\"apply_ranges\"],\"x\":{\"type\":\"field\",\"field\":\"streams\"},\"y\":{\"type\":\"field\",\"field\":\"bpm\"},\"line_color\":\"red\",\"line_alpha\":0.2,\"line_width\":2}}}}],\"toolbar\":{\"type\":\"object\",\"name\":\"Toolbar\",\"id\":\"p1214\",\"attributes\":{\"tools\":[{\"type\":\"object\",\"name\":\"WheelZoomTool\",\"id\":\"p1200\",\"attributes\":{\"tags\":[\"hv_created\"],\"renderers\":\"auto\",\"zoom_together\":\"none\"}},{\"type\":\"object\",\"name\":\"HoverTool\",\"id\":\"p1201\",\"attributes\":{\"tags\":[\"hv_created\"],\"renderers\":[{\"id\":\"p1245\"},{\"id\":\"p1258\"}],\"tooltips\":[[\"streams\",\"@{streams}\"],[\"bpm\",\"@{bpm}\"]]}},{\"type\":\"object\",\"name\":\"SaveTool\",\"id\":\"p1227\"},{\"type\":\"object\",\"name\":\"PanTool\",\"id\":\"p1228\"},{\"type\":\"object\",\"name\":\"BoxZoomTool\",\"id\":\"p1229\",\"attributes\":{\"overlay\":{\"type\":\"object\",\"name\":\"BoxAnnotation\",\"id\":\"p1230\",\"attributes\":{\"syncable\":false,\"level\":\"overlay\",\"visible\":false,\"left\":{\"type\":\"number\",\"value\":\"nan\"},\"right\":{\"type\":\"number\",\"value\":\"nan\"},\"top\":{\"type\":\"number\",\"value\":\"nan\"},\"bottom\":{\"type\":\"number\",\"value\":\"nan\"},\"left_units\":\"canvas\",\"right_units\":\"canvas\",\"top_units\":\"canvas\",\"bottom_units\":\"canvas\",\"line_color\":\"black\",\"line_alpha\":1.0,\"line_width\":2,\"line_dash\":[4,4],\"fill_color\":\"lightgrey\",\"fill_alpha\":0.5}}}},{\"type\":\"object\",\"name\":\"ResetTool\",\"id\":\"p1235\"}],\"active_drag\":{\"id\":\"p1228\"},\"active_scroll\":{\"id\":\"p1200\"}}},\"left\":[{\"type\":\"object\",\"name\":\"LinearAxis\",\"id\":\"p1222\",\"attributes\":{\"ticker\":{\"type\":\"object\",\"name\":\"BasicTicker\",\"id\":\"p1223\",\"attributes\":{\"mantissas\":[1,2,5]}},\"formatter\":{\"type\":\"object\",\"name\":\"BasicTickFormatter\",\"id\":\"p1224\"},\"axis_label\":\"bpm\",\"major_label_policy\":{\"type\":\"object\",\"name\":\"AllLabels\",\"id\":\"p1225\"}}}],\"below\":[{\"type\":\"object\",\"name\":\"LinearAxis\",\"id\":\"p1217\",\"attributes\":{\"ticker\":{\"type\":\"object\",\"name\":\"BasicTicker\",\"id\":\"p1218\",\"attributes\":{\"mantissas\":[1,2,5]}},\"formatter\":{\"type\":\"object\",\"name\":\"BasicTickFormatter\",\"id\":\"p1219\"},\"axis_label\":\"streams\",\"major_label_policy\":{\"type\":\"object\",\"name\":\"AllLabels\",\"id\":\"p1220\"}}}],\"center\":[{\"type\":\"object\",\"name\":\"Grid\",\"id\":\"p1221\",\"attributes\":{\"axis\":{\"id\":\"p1217\"},\"grid_line_color\":null}},{\"type\":\"object\",\"name\":\"Grid\",\"id\":\"p1226\",\"attributes\":{\"dimension\":1,\"axis\":{\"id\":\"p1222\"},\"grid_line_color\":null}}],\"min_border_top\":10,\"min_border_bottom\":10,\"min_border_left\":10,\"min_border_right\":10,\"output_backend\":\"webgl\"}},{\"type\":\"object\",\"name\":\"Spacer\",\"id\":\"p1263\",\"attributes\":{\"name\":\"HSpacer01302\",\"stylesheets\":[\"\\n:host(.pn-loading.pn-arc):before, .pn-loading.pn-arc:before {\\n  background-image: url(\\\"data:image/svg+xml;base64,PHN2ZyB4bWxucz0iaHR0cDovL3d3dy53My5vcmcvMjAwMC9zdmciIHN0eWxlPSJtYXJnaW46IGF1dG87IGJhY2tncm91bmQ6IG5vbmU7IGRpc3BsYXk6IGJsb2NrOyBzaGFwZS1yZW5kZXJpbmc6IGF1dG87IiB2aWV3Qm94PSIwIDAgMTAwIDEwMCIgcHJlc2VydmVBc3BlY3RSYXRpbz0ieE1pZFlNaWQiPiAgPGNpcmNsZSBjeD0iNTAiIGN5PSI1MCIgZmlsbD0ibm9uZSIgc3Ryb2tlPSIjYzNjM2MzIiBzdHJva2Utd2lkdGg9IjEwIiByPSIzNSIgc3Ryb2tlLWRhc2hhcnJheT0iMTY0LjkzMzYxNDMxMzQ2NDE1IDU2Ljk3Nzg3MTQzNzgyMTM4Ij4gICAgPGFuaW1hdGVUcmFuc2Zvcm0gYXR0cmlidXRlTmFtZT0idHJhbnNmb3JtIiB0eXBlPSJyb3RhdGUiIHJlcGVhdENvdW50PSJpbmRlZmluaXRlIiBkdXI9IjFzIiB2YWx1ZXM9IjAgNTAgNTA7MzYwIDUwIDUwIiBrZXlUaW1lcz0iMDsxIj48L2FuaW1hdGVUcmFuc2Zvcm0+ICA8L2NpcmNsZT48L3N2Zz4=\\\");\\n  background-size: auto calc(min(50%, 400px));\\n}\",{\"id\":\"p1193\"},{\"id\":\"p1191\"},{\"id\":\"p1192\"}],\"margin\":0,\"sizing_mode\":\"stretch_width\",\"align\":\"start\"}}]}}],\"defs\":[{\"type\":\"model\",\"name\":\"ReactiveHTML1\"},{\"type\":\"model\",\"name\":\"FlexBox1\",\"properties\":[{\"name\":\"align_content\",\"kind\":\"Any\",\"default\":\"flex-start\"},{\"name\":\"align_items\",\"kind\":\"Any\",\"default\":\"flex-start\"},{\"name\":\"flex_direction\",\"kind\":\"Any\",\"default\":\"row\"},{\"name\":\"flex_wrap\",\"kind\":\"Any\",\"default\":\"wrap\"},{\"name\":\"justify_content\",\"kind\":\"Any\",\"default\":\"flex-start\"}]},{\"type\":\"model\",\"name\":\"FloatPanel1\",\"properties\":[{\"name\":\"config\",\"kind\":\"Any\",\"default\":{\"type\":\"map\"}},{\"name\":\"contained\",\"kind\":\"Any\",\"default\":true},{\"name\":\"position\",\"kind\":\"Any\",\"default\":\"right-top\"},{\"name\":\"offsetx\",\"kind\":\"Any\",\"default\":null},{\"name\":\"offsety\",\"kind\":\"Any\",\"default\":null},{\"name\":\"theme\",\"kind\":\"Any\",\"default\":\"primary\"},{\"name\":\"status\",\"kind\":\"Any\",\"default\":\"normalized\"}]},{\"type\":\"model\",\"name\":\"GridStack1\",\"properties\":[{\"name\":\"mode\",\"kind\":\"Any\",\"default\":\"warn\"},{\"name\":\"ncols\",\"kind\":\"Any\",\"default\":null},{\"name\":\"nrows\",\"kind\":\"Any\",\"default\":null},{\"name\":\"allow_resize\",\"kind\":\"Any\",\"default\":true},{\"name\":\"allow_drag\",\"kind\":\"Any\",\"default\":true},{\"name\":\"state\",\"kind\":\"Any\",\"default\":[]}]},{\"type\":\"model\",\"name\":\"drag1\",\"properties\":[{\"name\":\"slider_width\",\"kind\":\"Any\",\"default\":5},{\"name\":\"slider_color\",\"kind\":\"Any\",\"default\":\"black\"},{\"name\":\"value\",\"kind\":\"Any\",\"default\":50}]},{\"type\":\"model\",\"name\":\"click1\",\"properties\":[{\"name\":\"terminal_output\",\"kind\":\"Any\",\"default\":\"\"},{\"name\":\"debug_name\",\"kind\":\"Any\",\"default\":\"\"},{\"name\":\"clears\",\"kind\":\"Any\",\"default\":0}]},{\"type\":\"model\",\"name\":\"copy_to_clipboard1\",\"properties\":[{\"name\":\"fill\",\"kind\":\"Any\",\"default\":\"none\"},{\"name\":\"value\",\"kind\":\"Any\",\"default\":null}]},{\"type\":\"model\",\"name\":\"FastWrapper1\",\"properties\":[{\"name\":\"object\",\"kind\":\"Any\",\"default\":null},{\"name\":\"style\",\"kind\":\"Any\",\"default\":null}]},{\"type\":\"model\",\"name\":\"NotificationAreaBase1\",\"properties\":[{\"name\":\"js_events\",\"kind\":\"Any\",\"default\":{\"type\":\"map\"}},{\"name\":\"position\",\"kind\":\"Any\",\"default\":\"bottom-right\"},{\"name\":\"_clear\",\"kind\":\"Any\",\"default\":0}]},{\"type\":\"model\",\"name\":\"NotificationArea1\",\"properties\":[{\"name\":\"js_events\",\"kind\":\"Any\",\"default\":{\"type\":\"map\"}},{\"name\":\"notifications\",\"kind\":\"Any\",\"default\":[]},{\"name\":\"position\",\"kind\":\"Any\",\"default\":\"bottom-right\"},{\"name\":\"_clear\",\"kind\":\"Any\",\"default\":0},{\"name\":\"types\",\"kind\":\"Any\",\"default\":[{\"type\":\"map\",\"entries\":[[\"type\",\"warning\"],[\"background\",\"#ffc107\"],[\"icon\",{\"type\":\"map\",\"entries\":[[\"className\",\"fas fa-exclamation-triangle\"],[\"tagName\",\"i\"],[\"color\",\"white\"]]}]]},{\"type\":\"map\",\"entries\":[[\"type\",\"info\"],[\"background\",\"#007bff\"],[\"icon\",{\"type\":\"map\",\"entries\":[[\"className\",\"fas fa-info-circle\"],[\"tagName\",\"i\"],[\"color\",\"white\"]]}]]}]}]},{\"type\":\"model\",\"name\":\"Notification\",\"properties\":[{\"name\":\"background\",\"kind\":\"Any\",\"default\":null},{\"name\":\"duration\",\"kind\":\"Any\",\"default\":3000},{\"name\":\"icon\",\"kind\":\"Any\",\"default\":null},{\"name\":\"message\",\"kind\":\"Any\",\"default\":\"\"},{\"name\":\"notification_type\",\"kind\":\"Any\",\"default\":null},{\"name\":\"_destroyed\",\"kind\":\"Any\",\"default\":false}]},{\"type\":\"model\",\"name\":\"TemplateActions1\",\"properties\":[{\"name\":\"open_modal\",\"kind\":\"Any\",\"default\":0},{\"name\":\"close_modal\",\"kind\":\"Any\",\"default\":0}]},{\"type\":\"model\",\"name\":\"BootstrapTemplateActions1\",\"properties\":[{\"name\":\"open_modal\",\"kind\":\"Any\",\"default\":0},{\"name\":\"close_modal\",\"kind\":\"Any\",\"default\":0}]},{\"type\":\"model\",\"name\":\"MaterialTemplateActions1\",\"properties\":[{\"name\":\"open_modal\",\"kind\":\"Any\",\"default\":0},{\"name\":\"close_modal\",\"kind\":\"Any\",\"default\":0}]}]}};\n",
       "  var render_items = [{\"docid\":\"f38b385e-cb96-4756-83e0-0bc9c98cc480\",\"roots\":{\"p1190\":\"eec30369-7d51-4bab-ba30-ffc74ecdd5bf\"},\"root_ids\":[\"p1190\"]}];\n",
       "  var docs = Object.values(docs_json)\n",
       "  if (!docs) {\n",
       "    return\n",
       "  }\n",
       "  const py_version = docs[0].version.replace('rc', '-rc.').replace('.dev', '-dev.')\n",
       "  function embed_document(root) {\n",
       "    var Bokeh = get_bokeh(root)\n",
       "    Bokeh.embed.embed_items_notebook(docs_json, render_items);\n",
       "    for (const render_item of render_items) {\n",
       "      for (const root_id of render_item.root_ids) {\n",
       "\tconst id_el = document.getElementById(root_id)\n",
       "\tif (id_el.children.length && (id_el.children[0].className === 'bk-root')) {\n",
       "\t  const root_el = id_el.children[0]\n",
       "\t  root_el.id = root_el.id + '-rendered'\n",
       "\t}\n",
       "      }\n",
       "    }\n",
       "  }\n",
       "  function get_bokeh(root) {\n",
       "    if (root.Bokeh === undefined) {\n",
       "      return null\n",
       "    } else if (root.Bokeh.version !== py_version) {\n",
       "      if (root.Bokeh.versions === undefined || !root.Bokeh.versions.has(py_version)) {\n",
       "\treturn null\n",
       "      }\n",
       "      return root.Bokeh.versions.get(py_version);\n",
       "    } else if (root.Bokeh.version === py_version) {\n",
       "      return root.Bokeh\n",
       "    }\n",
       "    return null\n",
       "  }\n",
       "  function is_loaded(root) {\n",
       "    var Bokeh = get_bokeh(root)\n",
       "    return (Bokeh != null && Bokeh.Panel !== undefined)\n",
       "  }\n",
       "  if (is_loaded(root)) {\n",
       "    embed_document(root);\n",
       "  } else {\n",
       "    var attempts = 0;\n",
       "    var timer = setInterval(function(root) {\n",
       "      if (is_loaded(root)) {\n",
       "        clearInterval(timer);\n",
       "        embed_document(root);\n",
       "      } else if (document.readyState == \"complete\") {\n",
       "        attempts++;\n",
       "        if (attempts > 200) {\n",
       "          clearInterval(timer);\n",
       "\t  var Bokeh = get_bokeh(root)\n",
       "\t  if (Bokeh == null || Bokeh.Panel == null) {\n",
       "            console.warn(\"Panel: ERROR: Unable to run Panel code because Bokeh or Panel library is missing\");\n",
       "\t  } else {\n",
       "\t    console.warn(\"Panel: WARNING: Attempting to render but not all required libraries could be resolved.\")\n",
       "\t    embed_document(root)\n",
       "\t  }\n",
       "        }\n",
       "      }\n",
       "    }, 25, root)\n",
       "  }\n",
       "})(window);</script>"
      ],
      "text/plain": [
       ":Overlay\n",
       "   .Scatter.I :Scatter   [streams]   (bpm)\n",
       "   .Curve.I   :Curve   [streams]   (bpm)"
      ]
     },
     "execution_count": 37,
     "metadata": {
      "application/vnd.holoviews_exec.v0+json": {
       "id": "p1190"
      }
     },
     "output_type": "execute_result"
    }
   ],
   "source": [
    "streams_plot * best_fit_line"
   ]
  },
  {
   "cell_type": "code",
   "execution_count": 42,
   "metadata": {},
   "outputs": [
    {
     "name": "stdout",
     "output_type": "stream",
     "text": [
      "Model's formula: bpm = 122.61563822310843 + -1.207202423444707e-10 * streams\n",
      "Predicted bpm for 100,000 streams: 122.62\n"
     ]
    }
   ],
   "source": [
    "\n",
    "# Display the model's formula\n",
    "print(f\"Model's formula: bpm = {model.intercept_} + {model.coef_[0]} * streams\")\n",
    "\n",
    "# Predict the bpm for 100,000 streams\n",
    "streams_100k = 100_000\n",
    "bpm_predicted = model.intercept_ + model.coef_[0] * streams_100k\n",
    "\n",
    "# Display the prediction\n",
    "print(f\"Predicted bpm for 100,000 streams: {bpm_predicted:.2f}\")"
   ]
  },
  {
   "cell_type": "code",
   "execution_count": 43,
   "metadata": {},
   "outputs": [
    {
     "data": {
      "text/plain": [
       "array([[100],\n",
       "       [150],\n",
       "       [200],\n",
       "       [250],\n",
       "       [300]])"
      ]
     },
     "execution_count": 43,
     "metadata": {},
     "output_type": "execute_result"
    }
   ],
   "source": [
    "# Create an array to predict sales for 100, 150, 200, 250, and 300 ads\n",
    "X_beats = np.array([100, 150, 200, 250, 300])\n",
    "\n",
    "# Format the array as a one-column array\n",
    "X_beats = X_beats.reshape(-1,1)\n",
    "\n",
    "# Display sample data\n",
    "X_beats"
   ]
  },
  {
   "cell_type": "code",
   "execution_count": 44,
   "metadata": {},
   "outputs": [],
   "source": [
    "# Predict sales for 100, 150, 200, 250, and 300 ads\n",
    "predicted_streams = model.predict(X_beats)"
   ]
  },
  {
   "cell_type": "code",
   "execution_count": 45,
   "metadata": {},
   "outputs": [
    {
     "data": {
      "text/html": [
       "<div>\n",
       "<style scoped>\n",
       "    .dataframe tbody tr th:only-of-type {\n",
       "        vertical-align: middle;\n",
       "    }\n",
       "\n",
       "    .dataframe tbody tr th {\n",
       "        vertical-align: top;\n",
       "    }\n",
       "\n",
       "    .dataframe thead th {\n",
       "        text-align: right;\n",
       "    }\n",
       "</style>\n",
       "<table border=\"1\" class=\"dataframe\">\n",
       "  <thead>\n",
       "    <tr style=\"text-align: right;\">\n",
       "      <th></th>\n",
       "      <th>BPM</th>\n",
       "      <th>predicted_streams</th>\n",
       "    </tr>\n",
       "  </thead>\n",
       "  <tbody>\n",
       "    <tr>\n",
       "      <th>0</th>\n",
       "      <td>100</td>\n",
       "      <td>122.615638</td>\n",
       "    </tr>\n",
       "    <tr>\n",
       "      <th>1</th>\n",
       "      <td>150</td>\n",
       "      <td>122.615638</td>\n",
       "    </tr>\n",
       "    <tr>\n",
       "      <th>2</th>\n",
       "      <td>200</td>\n",
       "      <td>122.615638</td>\n",
       "    </tr>\n",
       "    <tr>\n",
       "      <th>3</th>\n",
       "      <td>250</td>\n",
       "      <td>122.615638</td>\n",
       "    </tr>\n",
       "    <tr>\n",
       "      <th>4</th>\n",
       "      <td>300</td>\n",
       "      <td>122.615638</td>\n",
       "    </tr>\n",
       "  </tbody>\n",
       "</table>\n",
       "</div>"
      ],
      "text/plain": [
       "   BPM  predicted_streams\n",
       "0  100         122.615638\n",
       "1  150         122.615638\n",
       "2  200         122.615638\n",
       "3  250         122.615638\n",
       "4  300         122.615638"
      ]
     },
     "execution_count": 45,
     "metadata": {},
     "output_type": "execute_result"
    }
   ],
   "source": [
    "# Create a DataFrame for the predicted sales\n",
    "df_predicted_streams = pd.DataFrame(\n",
    "    {\n",
    "        \"BPM\": X_beats.reshape(1, -1)[0],\n",
    "        \"predicted_streams\": predicted_streams\n",
    "    }\n",
    ")\n",
    "\n",
    "# Display data\n",
    "df_predicted_streams"
   ]
  },
  {
   "cell_type": "code",
   "execution_count": 46,
   "metadata": {},
   "outputs": [],
   "source": [
    "# Import relevant metrics from scikit-learn\n",
    "from sklearn.metrics import mean_squared_error, r2_score"
   ]
  },
  {
   "cell_type": "code",
   "execution_count": 47,
   "metadata": {},
   "outputs": [
    {
     "name": "stdout",
     "output_type": "stream",
     "text": [
      "The score is 5.943396090724029e-06.\n",
      "The r2 is 5.943396090724029e-06.\n",
      "The mean squared error is 787.0701832968248.\n",
      "The root mean squared error is 28.054771132497674.\n",
      "The standard deviation is 28.05485450317783.\n"
     ]
    }
   ],
   "source": [
    "# Compute metrics for the linear regression model: score, r2, mse, rmse, std\n",
    "score = model.score(X, y, sample_weight=None)\n",
    "r2 = r2_score(y, predicted_y_values)\n",
    "mse = mean_squared_error(y, predicted_y_values)\n",
    "rmse = np.sqrt(mse)\n",
    "std = np.std(y)\n",
    "\n",
    "# Print relevant metrics.\n",
    "print(f\"The score is {score}.\")\n",
    "print(f\"The r2 is {r2}.\")\n",
    "print(f\"The mean squared error is {mse}.\")\n",
    "print(f\"The root mean squared error is {rmse}.\")\n",
    "print(f\"The standard deviation is {std}.\")"
   ]
  }
 ],
 "metadata": {
  "kernelspec": {
   "display_name": "dev",
   "language": "python",
   "name": "python3"
  },
  "language_info": {
   "codemirror_mode": {
    "name": "ipython",
    "version": 3
   },
   "file_extension": ".py",
   "mimetype": "text/x-python",
   "name": "python",
   "nbconvert_exporter": "python",
   "pygments_lexer": "ipython3",
   "version": "3.10.13"
  },
  "orig_nbformat": 4
 },
 "nbformat": 4,
 "nbformat_minor": 2
}
